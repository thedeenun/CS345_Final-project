{
  "nbformat": 4,
  "nbformat_minor": 0,
  "metadata": {
    "colab": {
      "name": "CS345_Income Classification.ipynb",
      "provenance": [],
      "authorship_tag": "ABX9TyM0XQ+M2pZ8Wxst1iZit3Rv",
      "include_colab_link": true
    },
    "kernelspec": {
      "name": "python3",
      "display_name": "Python 3"
    },
    "language_info": {
      "name": "python"
    }
  },
  "cells": [
    {
      "cell_type": "markdown",
      "metadata": {
        "id": "view-in-github",
        "colab_type": "text"
      },
      "source": [
        "<a href=\"https://colab.research.google.com/github/thedeenun/CS345_Final-project/blob/main/CS345_Income_Classification.ipynb\" target=\"_parent\"><img src=\"https://colab.research.google.com/assets/colab-badge.svg\" alt=\"Open In Colab\"/></a>"
      ]
    },
    {
      "cell_type": "markdown",
      "metadata": {
        "id": "3ii6e1XvAhpR"
      },
      "source": [
        "# Income Classification"
      ]
    },
    {
      "cell_type": "markdown",
      "metadata": {
        "id": "6YDavafA9w1h"
      },
      "source": [
        "##ลักษณะของกลุ่มข้อมูล (Data Description)\n",
        "หัวข้อ Income Dataset จาก https://www.kaggle.com/mastmustu/income ซึ่งเป็นข้อมูลที่มีเนื้อหาเกี่ยวกับลักษณะของประชากรที่มีรายได้มากกว่าหรือน้อยกว่า 50K\n",
        "\n",
        "โดย Data set ที่เลือกมา มีลักษณะดังนี้\n",
        "\n",
        "**Train Set**\n",
        "* Data set characteristic : Multivariate\n",
        "* Attribute characteristic : Integer, Object\n",
        "* จำนวน missing values : 5767\n",
        "* จำนวน Instance : 43958 \n",
        "* จำนวน Attribute: 15 ดังนี้\n",
        "  1. age : อายุ\n",
        "  2. workclass : ประเภทของการทำงาน \n",
        "  3. fnlwgt : final weight หรือ จำนวนของกลุ่มประชากรเป้าหมาย\n",
        "  4. education : ประเภทการศึกษา\n",
        "  5. educational-num : ตัวเลขของการศึกษา\n",
        "  6. marital-status : สถานะการสมรส\n",
        "  7. occupation : อาชีพ\n",
        "  8. relationship\t: ความสัมพันธ์\n",
        "  9. race : เชื้อชาติ\n",
        "  10. gender : เพศสภาพ\n",
        "  11. capital-gain : ผลกำไรจากส่วนต่างของราคาหลักทรัพย์\n",
        "  12. capital-loss : ผลขาดทุนจากส่วนต่างของราคาหลักทรัพย์\n",
        "  13. hours-per-week : ชั่วโมงการทำงานต่อสัปดาห์\n",
        "  14. native-country\t: ประเทศแต่กำเนิด\n",
        "  15. income_>50K : รายได้มากกว่า 50K\n",
        "\n",
        "\n",
        "**Test Set**\n",
        "* Data set characteristic : Multivariate\n",
        "* Attribute characteristic : Integer, Object\n",
        "* จำนวน missing values : 0\n",
        "* จำนวน Instance : 899 \n",
        "* จำนวน Attribute: 14 ดังนี้\n",
        "  1. age : อายุ\n",
        "  2. workclass : ประเภทของการทำงาน \n",
        "  3. fnlwgt : final weight หรือ จำนวนของกลุ่มประชากรเป้าหมาย\n",
        "  4. education : ประเภทการศึกษา\n",
        "  5. educational-num : ตัวเลขของการศึกษา\n",
        "  6. marital-status : สถานะการสมรส\n",
        "  7. occupation : อาชีพ\n",
        "  8. relationship\t: ความสัมพันธ์\n",
        "  9. race : เชื้อชาติ\n",
        "  10. gender : เพศสภาพ\n",
        "  11. capital-gain : ผลกำไรจากส่วนต่างของราคาหลักทรัพย์\n",
        "  12. capital-loss : ผลขาดทุนจากส่วนต่างของราคาหลักทรัพย์\n",
        "  13. hours-per-week : ชั่วโมงการทำงานต่อสัปดาห์\n",
        "  14. native-country\t: ประเทศแต่กำเนิด\n",
        "\n",
        "\n",
        "  โดยจะใช้ลักษะของข้อมูลทั้งหมดของข้อมูลมาทำ Classification เพื่อทำนายว่าจะมีจำนวนผู้ที่มีรายได้มากกว่าหรือน้อยกว่า 5 หมื่น (income_>50K) เป็นเท่าใดบ้าง\n",
        "\n",
        "*   Class label: income_>50K\n",
        "\n",
        "\n"
      ]
    },
    {
      "cell_type": "markdown",
      "metadata": {
        "id": "NfTuxxEY4iUL"
      },
      "source": [
        "# ขั้นตอนการเตรียมชุดข้อมูล"
      ]
    },
    {
      "cell_type": "markdown",
      "metadata": {
        "id": "yRbXEh_s69-9"
      },
      "source": [
        "Import module ต่าง ๆ ที่จำเป็นต้องใช้"
      ]
    },
    {
      "cell_type": "code",
      "metadata": {
        "id": "cIWGT7HGoFcC"
      },
      "source": [
        "import numpy as np\n",
        "import pandas as pd\n",
        "import matplotlib.pyplot as plt\n",
        "import seaborn as sns\n",
        "import warnings\n",
        "warnings.filterwarnings('ignore')"
      ],
      "execution_count": 95,
      "outputs": []
    },
    {
      "cell_type": "markdown",
      "metadata": {
        "id": "RM3MjrqB7FUI"
      },
      "source": [
        "Import data file ทั้งสองโดย\n",
        "\n",
        "\n",
        "*   train.csv เก็บไว้ในตัวแปร df_train\n",
        "*   test.csv เก็บไว้ในตัวแปร df_test\n",
        "\n",
        "\n",
        "\n",
        "\n"
      ]
    },
    {
      "cell_type": "code",
      "metadata": {
        "id": "RZEv4zLAybRD"
      },
      "source": [
        "df_train = pd.read_csv('/content/train.csv')\n",
        "df_test = pd.read_csv('/content/test.csv')"
      ],
      "execution_count": 96,
      "outputs": []
    },
    {
      "cell_type": "markdown",
      "metadata": {
        "id": "lRW4KAKW6pzP"
      },
      "source": [
        "แสดงผลประเภทของข้อมูลของแต่ละคอมลัมน์จาก df_train"
      ]
    },
    {
      "cell_type": "code",
      "metadata": {
        "colab": {
          "base_uri": "https://localhost:8080/"
        },
        "id": "glvt4ukbef3e",
        "outputId": "507f7aa7-16aa-422a-8bdd-7f5dd93f9701"
      },
      "source": [
        "df_train.info()"
      ],
      "execution_count": 97,
      "outputs": [
        {
          "output_type": "stream",
          "name": "stdout",
          "text": [
            "<class 'pandas.core.frame.DataFrame'>\n",
            "RangeIndex: 43957 entries, 0 to 43956\n",
            "Data columns (total 15 columns):\n",
            " #   Column           Non-Null Count  Dtype \n",
            "---  ------           --------------  ----- \n",
            " 0   age              43957 non-null  int64 \n",
            " 1   workclass        41459 non-null  object\n",
            " 2   fnlwgt           43957 non-null  int64 \n",
            " 3   education        43957 non-null  object\n",
            " 4   educational-num  43957 non-null  int64 \n",
            " 5   marital-status   43957 non-null  object\n",
            " 6   occupation       41451 non-null  object\n",
            " 7   relationship     43957 non-null  object\n",
            " 8   race             43957 non-null  object\n",
            " 9   gender           43957 non-null  object\n",
            " 10  capital-gain     43957 non-null  int64 \n",
            " 11  capital-loss     43957 non-null  int64 \n",
            " 12  hours-per-week   43957 non-null  int64 \n",
            " 13  native-country   43194 non-null  object\n",
            " 14  income_>50K      43957 non-null  int64 \n",
            "dtypes: int64(7), object(8)\n",
            "memory usage: 5.0+ MB\n"
          ]
        }
      ]
    },
    {
      "cell_type": "markdown",
      "metadata": {
        "id": "2mYmPsLf72Om"
      },
      "source": [
        "ใช้ isnull() เพื่อตรวจสอบว่าข้อมูลใน df_train มีค่า null หรือไม่"
      ]
    },
    {
      "cell_type": "code",
      "metadata": {
        "colab": {
          "base_uri": "https://localhost:8080/"
        },
        "id": "HXpwoca67EWv",
        "outputId": "e9a6a53b-36fe-4fc5-b7c9-3a684ea39c55"
      },
      "source": [
        "df_train.isnull().sum()"
      ],
      "execution_count": 98,
      "outputs": [
        {
          "output_type": "execute_result",
          "data": {
            "text/plain": [
              "age                   0\n",
              "workclass          2498\n",
              "fnlwgt                0\n",
              "education             0\n",
              "educational-num       0\n",
              "marital-status        0\n",
              "occupation         2506\n",
              "relationship          0\n",
              "race                  0\n",
              "gender                0\n",
              "capital-gain          0\n",
              "capital-loss          0\n",
              "hours-per-week        0\n",
              "native-country      763\n",
              "income_>50K           0\n",
              "dtype: int64"
            ]
          },
          "metadata": {},
          "execution_count": 98
        }
      ]
    },
    {
      "cell_type": "markdown",
      "metadata": {
        "id": "POzhy43u8BJJ"
      },
      "source": [
        "ทำการ drop แถวที่มีค่า null ใน df_train ทั้งหมด"
      ]
    },
    {
      "cell_type": "code",
      "metadata": {
        "id": "-HA7rmGm09z0"
      },
      "source": [
        "df_train.dropna(axis=0, inplace=True)"
      ],
      "execution_count": 99,
      "outputs": []
    },
    {
      "cell_type": "markdown",
      "metadata": {
        "id": "YMlhsor-7z9C"
      },
      "source": [
        "แสดงผลประเภทของข้อมูลของแต่ละคอมลัมน์จาก df_test"
      ]
    },
    {
      "cell_type": "code",
      "metadata": {
        "colab": {
          "base_uri": "https://localhost:8080/"
        },
        "id": "u5usyzWixh0D",
        "outputId": "6a52cbff-f8fa-4e37-c02e-ae2b53b53a0c"
      },
      "source": [
        "df_test.info()"
      ],
      "execution_count": 100,
      "outputs": [
        {
          "output_type": "stream",
          "name": "stdout",
          "text": [
            "<class 'pandas.core.frame.DataFrame'>\n",
            "RangeIndex: 899 entries, 0 to 898\n",
            "Data columns (total 14 columns):\n",
            " #   Column           Non-Null Count  Dtype \n",
            "---  ------           --------------  ----- \n",
            " 0   age              899 non-null    int64 \n",
            " 1   workclass        899 non-null    object\n",
            " 2   fnlwgt           899 non-null    int64 \n",
            " 3   education        899 non-null    object\n",
            " 4   educational-num  899 non-null    int64 \n",
            " 5   marital-status   899 non-null    object\n",
            " 6   occupation       899 non-null    object\n",
            " 7   relationship     899 non-null    object\n",
            " 8   race             899 non-null    object\n",
            " 9   gender           899 non-null    object\n",
            " 10  capital-gain     899 non-null    int64 \n",
            " 11  capital-loss     899 non-null    int64 \n",
            " 12  hours-per-week   899 non-null    int64 \n",
            " 13  native-country   899 non-null    object\n",
            "dtypes: int64(6), object(8)\n",
            "memory usage: 98.5+ KB\n"
          ]
        }
      ]
    },
    {
      "cell_type": "markdown",
      "metadata": {
        "id": "V7llZc4J8MjV"
      },
      "source": [
        "ใช้ isnull() เพื่อตรวจสอบว่าข้อมูลใน df_test มีค่า null หรือไม่"
      ]
    },
    {
      "cell_type": "code",
      "metadata": {
        "colab": {
          "base_uri": "https://localhost:8080/"
        },
        "id": "_FhTcb9ziDLh",
        "outputId": "7b59b128-0321-41d5-ddae-c689dcfd1eb4"
      },
      "source": [
        "df_test.isnull().sum()"
      ],
      "execution_count": 101,
      "outputs": [
        {
          "output_type": "execute_result",
          "data": {
            "text/plain": [
              "age                0\n",
              "workclass          0\n",
              "fnlwgt             0\n",
              "education          0\n",
              "educational-num    0\n",
              "marital-status     0\n",
              "occupation         0\n",
              "relationship       0\n",
              "race               0\n",
              "gender             0\n",
              "capital-gain       0\n",
              "capital-loss       0\n",
              "hours-per-week     0\n",
              "native-country     0\n",
              "dtype: int64"
            ]
          },
          "metadata": {},
          "execution_count": 101
        }
      ]
    },
    {
      "cell_type": "markdown",
      "metadata": {
        "id": "_qgoT_eM8O3t"
      },
      "source": [
        "ตรวจสอบ Class label จาก df_train ว่าเป็น Class balance หรือ Class imbalance"
      ]
    },
    {
      "cell_type": "code",
      "metadata": {
        "colab": {
          "base_uri": "https://localhost:8080/"
        },
        "id": "A_MO-Ww7ThoQ",
        "outputId": "a2f2ba08-ce10-426f-f3cc-8a0a798c1184"
      },
      "source": [
        "df_train['income_>50K'].value_counts()"
      ],
      "execution_count": 102,
      "outputs": [
        {
          "output_type": "execute_result",
          "data": {
            "text/plain": [
              "0    30635\n",
              "1    10092\n",
              "Name: income_>50K, dtype: int64"
            ]
          },
          "metadata": {},
          "execution_count": 102
        }
      ]
    },
    {
      "cell_type": "markdown",
      "metadata": {
        "id": "Z_YapEw59NTv"
      },
      "source": [
        "จำนวนของ income_>50K ของทั้งสอง class มีไม่เท่ากัน จึงสรุปได้ว่า df_train เป็น Class imbalance"
      ]
    },
    {
      "cell_type": "markdown",
      "metadata": {
        "id": "3ebcSbukgGMH"
      },
      "source": [
        "#ขั้นตอนการแปลงข้อมูลประเภท Nominal หรือ Ordinal ให้เป็น Numerical (One hot encoding)"
      ]
    },
    {
      "cell_type": "markdown",
      "metadata": {
        "id": "GTJbI2Zl-YbV"
      },
      "source": [
        "&emsp;การทำแปลงข้อมูลประเภท Nominal หรือ Ordinal ให้เป็น Numerical หรือเรียกว่าการทำ One hot encoding คือ การแปลงข้อมูลที่เป็นประเภท String หรือ Objict ให้เป็นค่า 0 หรือ 1 โดยจะต้องแยกย่อยคอลัมน์ที่มีอยู่ให้เป็นหลาย ๆ คอลัมน์ตามจำนวนลักษณะ(Attributes) ที่มีอยู่ในคอลัมน์นั้น เช่น คอลัมน์ gender มีลักษณะคือ Male และ Female หลังจากทำ One hot encoding คอลัมน์ gender จะหายไปกลายเป็นคอลัมน์ gender_Male กับ gender_Female แทน และถ้าหากแถวของข้อมูลนั้นแต่เดิมมี gender เป็น Male ก็จะเช็ตค่า 1 ในคอลัมน์ gender_Male และเซ็ตค่า 0 ในคอลัมน์ gender_Female\n",
        "\n",
        "> Pandas มีฟังก์ชั่น get_dummies ที่สามารถทำ One hot encoding ได้\n",
        "\n",
        "&emsp;แต่เนื่องจาก df_train และ df_test มีลักษณะที่อยู่ในแต่ละคอลัมน์ที่ไม่เหมือนกันอยู่ จึงไม่สามารถใช้ get_dummies เพื่อทำ One hot encoding ได้ จึงทำการใช้วิธีต่อไปนี้เพื่อทำ One hot encoding สำหรับชุดข้อมูลทั้งสอง\n",
        "\n"
      ]
    },
    {
      "cell_type": "code",
      "metadata": {
        "colab": {
          "base_uri": "https://localhost:8080/"
        },
        "id": "t9ss6b7N0R83",
        "outputId": "3de80221-1283-4e85-e045-cbc537dbb77c"
      },
      "source": [
        "list_columns_onehotendcode = []\n",
        "list_columns = ['workclass', 'education', 'marital-status', 'occupation', 'relationship', 'race', 'gender', 'native-country']\n",
        "for i in  list_columns:\n",
        "  for j in set(df_train[i]):\n",
        "    temp = i+\"_\"+j\n",
        "    if j not in list_columns_onehotendcode:\n",
        "      list_columns_onehotendcode.append(temp)\n",
        "  for j in set(df_test[i]):\n",
        "    temp = i+\"_\"+j\n",
        "    if j not in list_columns_onehotendcode:\n",
        "      list_columns_onehotendcode.append(temp)    \n",
        "\n",
        "print(list_columns_onehotendcode)"
      ],
      "execution_count": 103,
      "outputs": [
        {
          "output_type": "stream",
          "name": "stdout",
          "text": [
            "['workclass_Self-emp-inc', 'workclass_Private', 'workclass_Federal-gov', 'workclass_State-gov', 'workclass_Local-gov', 'workclass_Without-pay', 'workclass_Self-emp-not-inc', 'workclass_Self-emp-inc', 'workclass_Private', 'workclass_Federal-gov', 'workclass_State-gov', 'workclass_Local-gov', 'workclass_Self-emp-not-inc', 'education_7th-8th', 'education_HS-grad', 'education_9th', 'education_Assoc-voc', 'education_Bachelors', 'education_Preschool', 'education_11th', 'education_5th-6th', 'education_10th', 'education_Masters', 'education_1st-4th', 'education_Prof-school', 'education_12th', 'education_Doctorate', 'education_Assoc-acdm', 'education_Some-college', 'education_7th-8th', 'education_HS-grad', 'education_Assoc-voc', 'education_9th', 'education_Bachelors', 'education_Preschool', 'education_11th', 'education_5th-6th', 'education_Masters', 'education_10th', 'education_1st-4th', 'education_Prof-school', 'education_12th', 'education_Doctorate', 'education_Assoc-acdm', 'education_Some-college', 'marital-status_Married-AF-spouse', 'marital-status_Separated', 'marital-status_Married-civ-spouse', 'marital-status_Widowed', 'marital-status_Never-married', 'marital-status_Married-spouse-absent', 'marital-status_Divorced', 'marital-status_Married-AF-spouse', 'marital-status_Separated', 'marital-status_Married-civ-spouse', 'marital-status_Widowed', 'marital-status_Never-married', 'marital-status_Married-spouse-absent', 'marital-status_Divorced', 'occupation_Transport-moving', 'occupation_Machine-op-inspct', 'occupation_Exec-managerial', 'occupation_Craft-repair', 'occupation_Farming-fishing', 'occupation_Armed-Forces', 'occupation_Handlers-cleaners', 'occupation_Sales', 'occupation_Prof-specialty', 'occupation_Adm-clerical', 'occupation_Tech-support', 'occupation_Other-service', 'occupation_Priv-house-serv', 'occupation_Protective-serv', 'occupation_Transport-moving', 'occupation_Machine-op-inspct', 'occupation_Craft-repair', 'occupation_Farming-fishing', 'occupation_Armed-Forces', 'occupation_Handlers-cleaners', 'occupation_Other-service', 'occupation_Prof-specialty', 'occupation_Adm-clerical', 'occupation_Exec-managerial', 'occupation_Tech-support', 'occupation_Sales', 'occupation_Priv-house-serv', 'occupation_Protective-serv', 'relationship_Other-relative', 'relationship_Not-in-family', 'relationship_Unmarried', 'relationship_Wife', 'relationship_Own-child', 'relationship_Husband', 'relationship_Other-relative', 'relationship_Not-in-family', 'relationship_Unmarried', 'relationship_Wife', 'relationship_Own-child', 'relationship_Husband', 'race_Other', 'race_Asian-Pac-Islander', 'race_Amer-Indian-Eskimo', 'race_Black', 'race_White', 'race_Other', 'race_Asian-Pac-Islander', 'race_Amer-Indian-Eskimo', 'race_Black', 'race_White', 'gender_Female', 'gender_Male', 'gender_Female', 'gender_Male', 'native-country_Italy', 'native-country_Jamaica', 'native-country_Dominican-Republic', 'native-country_Vietnam', 'native-country_Nicaragua', 'native-country_Taiwan', 'native-country_England', 'native-country_El-Salvador', 'native-country_United-States', 'native-country_Trinadad&Tobago', 'native-country_Ecuador', 'native-country_Honduras', 'native-country_Cambodia', 'native-country_Holand-Netherlands', 'native-country_Iran', 'native-country_Germany', 'native-country_Mexico', 'native-country_India', 'native-country_Guatemala', 'native-country_Puerto-Rico', 'native-country_Yugoslavia', 'native-country_South', 'native-country_Outlying-US(Guam-USVI-etc)', 'native-country_Ireland', 'native-country_Greece', 'native-country_Haiti', 'native-country_France', 'native-country_Cuba', 'native-country_Philippines', 'native-country_Peru', 'native-country_Japan', 'native-country_Hong', 'native-country_Poland', 'native-country_Scotland', 'native-country_Columbia', 'native-country_Hungary', 'native-country_China', 'native-country_Portugal', 'native-country_Canada', 'native-country_Thailand', 'native-country_Laos', 'native-country_Italy', 'native-country_Jamaica', 'native-country_Dominican-Republic', 'native-country_Nicaragua', 'native-country_Taiwan', 'native-country_England', 'native-country_El-Salvador', 'native-country_United-States', 'native-country_Trinadad&Tobago', 'native-country_Ecuador', 'native-country_Cambodia', 'native-country_Germany', 'native-country_Mexico', 'native-country_India', 'native-country_Guatemala', 'native-country_Puerto-Rico', 'native-country_South', 'native-country_Greece', 'native-country_Haiti', 'native-country_France', 'native-country_Cuba', 'native-country_Philippines', 'native-country_Poland', 'native-country_Columbia', 'native-country_China', 'native-country_Portugal', 'native-country_Canada', 'native-country_Thailand', 'native-country_Laos']\n"
          ]
        }
      ]
    },
    {
      "cell_type": "markdown",
      "metadata": {
        "id": "bxrYaaQZCpMz"
      },
      "source": [
        "เพิ่มคอลัมน์ย่อยที่ได้จากการทำ one hot encoding เข้าไปใน df_train และ df_test จากนั้นเซ็ตค่าให้เป็น 0 ก่อน"
      ]
    },
    {
      "cell_type": "code",
      "metadata": {
        "id": "ps9y__p_3s_u"
      },
      "source": [
        "df_train[list_columns_onehotendcode] = 0\n",
        "df_test[list_columns_onehotendcode] = 0"
      ],
      "execution_count": 104,
      "outputs": []
    },
    {
      "cell_type": "markdown",
      "metadata": {
        "id": "BgekCorcCZeE"
      },
      "source": [
        "เซ็ตค่าเท่ากับ 1 สำหรับคอลัมน์ที่มีลักษณะจาก list_colums_onehotencode ปรากกฎอยู่"
      ]
    },
    {
      "cell_type": "code",
      "metadata": {
        "id": "VIATJIfu2t5P"
      },
      "source": [
        "for i in list_columns:\n",
        "  for j in list_columns_onehotendcode:\n",
        "    df_train.loc[df_train[i].str.contains(j,case=False),j]=1\n",
        "    df_test.loc[df_test[i].str.contains(j,case=False),j]=1"
      ],
      "execution_count": 105,
      "outputs": []
    },
    {
      "cell_type": "markdown",
      "metadata": {
        "id": "IOCyUjbWCHp8"
      },
      "source": [
        "ทำการ drop คอลัมน์ดั้งเดิมก่อนทำ One hot encoding ทิ้งไป"
      ]
    },
    {
      "cell_type": "code",
      "metadata": {
        "id": "Shulu8h93hSS"
      },
      "source": [
        "df_train.drop(columns=list_columns, inplace=True)\n",
        "df_test.drop(columns=list_columns, inplace=True)"
      ],
      "execution_count": 106,
      "outputs": []
    },
    {
      "cell_type": "markdown",
      "metadata": {
        "id": "N34FH3ueDYms"
      },
      "source": [
        "จำนวนคอลัมน์ของ df_train เพิ่มขึ้นมาจาก 15 เป็น 105\n",
        "\n",
        "จำนวนคอลัมน์ของ df_test เพิ่มขึ้นมาจาก 14 เป็น 104 เนื่องจาก df_test ไม่มี class label (income_>50K) อยู่ด้วย\n"
      ]
    },
    {
      "cell_type": "code",
      "metadata": {
        "colab": {
          "base_uri": "https://localhost:8080/"
        },
        "id": "79HaH5sHBwYM",
        "outputId": "60632c2c-b153-4457-caa2-8e934b9ca69c"
      },
      "source": [
        "print(\"df_train:\", df_train.shape)\n",
        "print(\"df_test:\", df_test.shape)"
      ],
      "execution_count": 107,
      "outputs": [
        {
          "output_type": "stream",
          "name": "stdout",
          "text": [
            "df_train: (40727, 105)\n",
            "df_test: (899, 104)\n"
          ]
        }
      ]
    },
    {
      "cell_type": "code",
      "metadata": {
        "colab": {
          "base_uri": "https://localhost:8080/",
          "height": 287
        },
        "id": "Kr1GuoZR7cY7",
        "outputId": "e62ac442-be41-4b53-c24c-fb6d3dbdac00"
      },
      "source": [
        "df_train.head()"
      ],
      "execution_count": 108,
      "outputs": [
        {
          "output_type": "execute_result",
          "data": {
            "text/html": [
              "<div>\n",
              "<style scoped>\n",
              "    .dataframe tbody tr th:only-of-type {\n",
              "        vertical-align: middle;\n",
              "    }\n",
              "\n",
              "    .dataframe tbody tr th {\n",
              "        vertical-align: top;\n",
              "    }\n",
              "\n",
              "    .dataframe thead th {\n",
              "        text-align: right;\n",
              "    }\n",
              "</style>\n",
              "<table border=\"1\" class=\"dataframe\">\n",
              "  <thead>\n",
              "    <tr style=\"text-align: right;\">\n",
              "      <th></th>\n",
              "      <th>age</th>\n",
              "      <th>fnlwgt</th>\n",
              "      <th>educational-num</th>\n",
              "      <th>capital-gain</th>\n",
              "      <th>capital-loss</th>\n",
              "      <th>hours-per-week</th>\n",
              "      <th>income_&gt;50K</th>\n",
              "      <th>workclass_Self-emp-inc</th>\n",
              "      <th>workclass_Private</th>\n",
              "      <th>workclass_Federal-gov</th>\n",
              "      <th>workclass_State-gov</th>\n",
              "      <th>workclass_Local-gov</th>\n",
              "      <th>workclass_Without-pay</th>\n",
              "      <th>workclass_Self-emp-not-inc</th>\n",
              "      <th>education_7th-8th</th>\n",
              "      <th>education_HS-grad</th>\n",
              "      <th>education_9th</th>\n",
              "      <th>education_Assoc-voc</th>\n",
              "      <th>education_Bachelors</th>\n",
              "      <th>education_Preschool</th>\n",
              "      <th>education_11th</th>\n",
              "      <th>education_5th-6th</th>\n",
              "      <th>education_10th</th>\n",
              "      <th>education_Masters</th>\n",
              "      <th>education_1st-4th</th>\n",
              "      <th>education_Prof-school</th>\n",
              "      <th>education_12th</th>\n",
              "      <th>education_Doctorate</th>\n",
              "      <th>education_Assoc-acdm</th>\n",
              "      <th>education_Some-college</th>\n",
              "      <th>marital-status_Married-AF-spouse</th>\n",
              "      <th>marital-status_Separated</th>\n",
              "      <th>marital-status_Married-civ-spouse</th>\n",
              "      <th>marital-status_Widowed</th>\n",
              "      <th>marital-status_Never-married</th>\n",
              "      <th>marital-status_Married-spouse-absent</th>\n",
              "      <th>marital-status_Divorced</th>\n",
              "      <th>occupation_Transport-moving</th>\n",
              "      <th>occupation_Machine-op-inspct</th>\n",
              "      <th>occupation_Exec-managerial</th>\n",
              "      <th>...</th>\n",
              "      <th>native-country_Jamaica</th>\n",
              "      <th>native-country_Dominican-Republic</th>\n",
              "      <th>native-country_Vietnam</th>\n",
              "      <th>native-country_Nicaragua</th>\n",
              "      <th>native-country_Taiwan</th>\n",
              "      <th>native-country_England</th>\n",
              "      <th>native-country_El-Salvador</th>\n",
              "      <th>native-country_United-States</th>\n",
              "      <th>native-country_Trinadad&amp;Tobago</th>\n",
              "      <th>native-country_Ecuador</th>\n",
              "      <th>native-country_Honduras</th>\n",
              "      <th>native-country_Cambodia</th>\n",
              "      <th>native-country_Holand-Netherlands</th>\n",
              "      <th>native-country_Iran</th>\n",
              "      <th>native-country_Germany</th>\n",
              "      <th>native-country_Mexico</th>\n",
              "      <th>native-country_India</th>\n",
              "      <th>native-country_Guatemala</th>\n",
              "      <th>native-country_Puerto-Rico</th>\n",
              "      <th>native-country_Yugoslavia</th>\n",
              "      <th>native-country_South</th>\n",
              "      <th>native-country_Outlying-US(Guam-USVI-etc)</th>\n",
              "      <th>native-country_Ireland</th>\n",
              "      <th>native-country_Greece</th>\n",
              "      <th>native-country_Haiti</th>\n",
              "      <th>native-country_France</th>\n",
              "      <th>native-country_Cuba</th>\n",
              "      <th>native-country_Philippines</th>\n",
              "      <th>native-country_Peru</th>\n",
              "      <th>native-country_Japan</th>\n",
              "      <th>native-country_Hong</th>\n",
              "      <th>native-country_Poland</th>\n",
              "      <th>native-country_Scotland</th>\n",
              "      <th>native-country_Columbia</th>\n",
              "      <th>native-country_Hungary</th>\n",
              "      <th>native-country_China</th>\n",
              "      <th>native-country_Portugal</th>\n",
              "      <th>native-country_Canada</th>\n",
              "      <th>native-country_Thailand</th>\n",
              "      <th>native-country_Laos</th>\n",
              "    </tr>\n",
              "  </thead>\n",
              "  <tbody>\n",
              "    <tr>\n",
              "      <th>0</th>\n",
              "      <td>67</td>\n",
              "      <td>366425</td>\n",
              "      <td>16</td>\n",
              "      <td>99999</td>\n",
              "      <td>0</td>\n",
              "      <td>60</td>\n",
              "      <td>1</td>\n",
              "      <td>0</td>\n",
              "      <td>0</td>\n",
              "      <td>0</td>\n",
              "      <td>0</td>\n",
              "      <td>0</td>\n",
              "      <td>0</td>\n",
              "      <td>0</td>\n",
              "      <td>0</td>\n",
              "      <td>0</td>\n",
              "      <td>0</td>\n",
              "      <td>0</td>\n",
              "      <td>0</td>\n",
              "      <td>0</td>\n",
              "      <td>0</td>\n",
              "      <td>0</td>\n",
              "      <td>0</td>\n",
              "      <td>0</td>\n",
              "      <td>0</td>\n",
              "      <td>0</td>\n",
              "      <td>0</td>\n",
              "      <td>0</td>\n",
              "      <td>0</td>\n",
              "      <td>0</td>\n",
              "      <td>0</td>\n",
              "      <td>0</td>\n",
              "      <td>0</td>\n",
              "      <td>0</td>\n",
              "      <td>0</td>\n",
              "      <td>0</td>\n",
              "      <td>0</td>\n",
              "      <td>0</td>\n",
              "      <td>0</td>\n",
              "      <td>0</td>\n",
              "      <td>...</td>\n",
              "      <td>0</td>\n",
              "      <td>0</td>\n",
              "      <td>0</td>\n",
              "      <td>0</td>\n",
              "      <td>0</td>\n",
              "      <td>0</td>\n",
              "      <td>0</td>\n",
              "      <td>0</td>\n",
              "      <td>0</td>\n",
              "      <td>0</td>\n",
              "      <td>0</td>\n",
              "      <td>0</td>\n",
              "      <td>0</td>\n",
              "      <td>0</td>\n",
              "      <td>0</td>\n",
              "      <td>0</td>\n",
              "      <td>0</td>\n",
              "      <td>0</td>\n",
              "      <td>0</td>\n",
              "      <td>0</td>\n",
              "      <td>0</td>\n",
              "      <td>0</td>\n",
              "      <td>0</td>\n",
              "      <td>0</td>\n",
              "      <td>0</td>\n",
              "      <td>0</td>\n",
              "      <td>0</td>\n",
              "      <td>0</td>\n",
              "      <td>0</td>\n",
              "      <td>0</td>\n",
              "      <td>0</td>\n",
              "      <td>0</td>\n",
              "      <td>0</td>\n",
              "      <td>0</td>\n",
              "      <td>0</td>\n",
              "      <td>0</td>\n",
              "      <td>0</td>\n",
              "      <td>0</td>\n",
              "      <td>0</td>\n",
              "      <td>0</td>\n",
              "    </tr>\n",
              "    <tr>\n",
              "      <th>1</th>\n",
              "      <td>17</td>\n",
              "      <td>244602</td>\n",
              "      <td>8</td>\n",
              "      <td>0</td>\n",
              "      <td>0</td>\n",
              "      <td>15</td>\n",
              "      <td>0</td>\n",
              "      <td>0</td>\n",
              "      <td>0</td>\n",
              "      <td>0</td>\n",
              "      <td>0</td>\n",
              "      <td>0</td>\n",
              "      <td>0</td>\n",
              "      <td>0</td>\n",
              "      <td>0</td>\n",
              "      <td>0</td>\n",
              "      <td>0</td>\n",
              "      <td>0</td>\n",
              "      <td>0</td>\n",
              "      <td>0</td>\n",
              "      <td>0</td>\n",
              "      <td>0</td>\n",
              "      <td>0</td>\n",
              "      <td>0</td>\n",
              "      <td>0</td>\n",
              "      <td>0</td>\n",
              "      <td>0</td>\n",
              "      <td>0</td>\n",
              "      <td>0</td>\n",
              "      <td>0</td>\n",
              "      <td>0</td>\n",
              "      <td>0</td>\n",
              "      <td>0</td>\n",
              "      <td>0</td>\n",
              "      <td>0</td>\n",
              "      <td>0</td>\n",
              "      <td>0</td>\n",
              "      <td>0</td>\n",
              "      <td>0</td>\n",
              "      <td>0</td>\n",
              "      <td>...</td>\n",
              "      <td>0</td>\n",
              "      <td>0</td>\n",
              "      <td>0</td>\n",
              "      <td>0</td>\n",
              "      <td>0</td>\n",
              "      <td>0</td>\n",
              "      <td>0</td>\n",
              "      <td>0</td>\n",
              "      <td>0</td>\n",
              "      <td>0</td>\n",
              "      <td>0</td>\n",
              "      <td>0</td>\n",
              "      <td>0</td>\n",
              "      <td>0</td>\n",
              "      <td>0</td>\n",
              "      <td>0</td>\n",
              "      <td>0</td>\n",
              "      <td>0</td>\n",
              "      <td>0</td>\n",
              "      <td>0</td>\n",
              "      <td>0</td>\n",
              "      <td>0</td>\n",
              "      <td>0</td>\n",
              "      <td>0</td>\n",
              "      <td>0</td>\n",
              "      <td>0</td>\n",
              "      <td>0</td>\n",
              "      <td>0</td>\n",
              "      <td>0</td>\n",
              "      <td>0</td>\n",
              "      <td>0</td>\n",
              "      <td>0</td>\n",
              "      <td>0</td>\n",
              "      <td>0</td>\n",
              "      <td>0</td>\n",
              "      <td>0</td>\n",
              "      <td>0</td>\n",
              "      <td>0</td>\n",
              "      <td>0</td>\n",
              "      <td>0</td>\n",
              "    </tr>\n",
              "    <tr>\n",
              "      <th>2</th>\n",
              "      <td>31</td>\n",
              "      <td>174201</td>\n",
              "      <td>13</td>\n",
              "      <td>0</td>\n",
              "      <td>0</td>\n",
              "      <td>40</td>\n",
              "      <td>1</td>\n",
              "      <td>0</td>\n",
              "      <td>0</td>\n",
              "      <td>0</td>\n",
              "      <td>0</td>\n",
              "      <td>0</td>\n",
              "      <td>0</td>\n",
              "      <td>0</td>\n",
              "      <td>0</td>\n",
              "      <td>0</td>\n",
              "      <td>0</td>\n",
              "      <td>0</td>\n",
              "      <td>0</td>\n",
              "      <td>0</td>\n",
              "      <td>0</td>\n",
              "      <td>0</td>\n",
              "      <td>0</td>\n",
              "      <td>0</td>\n",
              "      <td>0</td>\n",
              "      <td>0</td>\n",
              "      <td>0</td>\n",
              "      <td>0</td>\n",
              "      <td>0</td>\n",
              "      <td>0</td>\n",
              "      <td>0</td>\n",
              "      <td>0</td>\n",
              "      <td>0</td>\n",
              "      <td>0</td>\n",
              "      <td>0</td>\n",
              "      <td>0</td>\n",
              "      <td>0</td>\n",
              "      <td>0</td>\n",
              "      <td>0</td>\n",
              "      <td>0</td>\n",
              "      <td>...</td>\n",
              "      <td>0</td>\n",
              "      <td>0</td>\n",
              "      <td>0</td>\n",
              "      <td>0</td>\n",
              "      <td>0</td>\n",
              "      <td>0</td>\n",
              "      <td>0</td>\n",
              "      <td>0</td>\n",
              "      <td>0</td>\n",
              "      <td>0</td>\n",
              "      <td>0</td>\n",
              "      <td>0</td>\n",
              "      <td>0</td>\n",
              "      <td>0</td>\n",
              "      <td>0</td>\n",
              "      <td>0</td>\n",
              "      <td>0</td>\n",
              "      <td>0</td>\n",
              "      <td>0</td>\n",
              "      <td>0</td>\n",
              "      <td>0</td>\n",
              "      <td>0</td>\n",
              "      <td>0</td>\n",
              "      <td>0</td>\n",
              "      <td>0</td>\n",
              "      <td>0</td>\n",
              "      <td>0</td>\n",
              "      <td>0</td>\n",
              "      <td>0</td>\n",
              "      <td>0</td>\n",
              "      <td>0</td>\n",
              "      <td>0</td>\n",
              "      <td>0</td>\n",
              "      <td>0</td>\n",
              "      <td>0</td>\n",
              "      <td>0</td>\n",
              "      <td>0</td>\n",
              "      <td>0</td>\n",
              "      <td>0</td>\n",
              "      <td>0</td>\n",
              "    </tr>\n",
              "    <tr>\n",
              "      <th>3</th>\n",
              "      <td>58</td>\n",
              "      <td>110199</td>\n",
              "      <td>4</td>\n",
              "      <td>0</td>\n",
              "      <td>0</td>\n",
              "      <td>40</td>\n",
              "      <td>0</td>\n",
              "      <td>0</td>\n",
              "      <td>0</td>\n",
              "      <td>0</td>\n",
              "      <td>0</td>\n",
              "      <td>0</td>\n",
              "      <td>0</td>\n",
              "      <td>0</td>\n",
              "      <td>0</td>\n",
              "      <td>0</td>\n",
              "      <td>0</td>\n",
              "      <td>0</td>\n",
              "      <td>0</td>\n",
              "      <td>0</td>\n",
              "      <td>0</td>\n",
              "      <td>0</td>\n",
              "      <td>0</td>\n",
              "      <td>0</td>\n",
              "      <td>0</td>\n",
              "      <td>0</td>\n",
              "      <td>0</td>\n",
              "      <td>0</td>\n",
              "      <td>0</td>\n",
              "      <td>0</td>\n",
              "      <td>0</td>\n",
              "      <td>0</td>\n",
              "      <td>0</td>\n",
              "      <td>0</td>\n",
              "      <td>0</td>\n",
              "      <td>0</td>\n",
              "      <td>0</td>\n",
              "      <td>0</td>\n",
              "      <td>0</td>\n",
              "      <td>0</td>\n",
              "      <td>...</td>\n",
              "      <td>0</td>\n",
              "      <td>0</td>\n",
              "      <td>0</td>\n",
              "      <td>0</td>\n",
              "      <td>0</td>\n",
              "      <td>0</td>\n",
              "      <td>0</td>\n",
              "      <td>0</td>\n",
              "      <td>0</td>\n",
              "      <td>0</td>\n",
              "      <td>0</td>\n",
              "      <td>0</td>\n",
              "      <td>0</td>\n",
              "      <td>0</td>\n",
              "      <td>0</td>\n",
              "      <td>0</td>\n",
              "      <td>0</td>\n",
              "      <td>0</td>\n",
              "      <td>0</td>\n",
              "      <td>0</td>\n",
              "      <td>0</td>\n",
              "      <td>0</td>\n",
              "      <td>0</td>\n",
              "      <td>0</td>\n",
              "      <td>0</td>\n",
              "      <td>0</td>\n",
              "      <td>0</td>\n",
              "      <td>0</td>\n",
              "      <td>0</td>\n",
              "      <td>0</td>\n",
              "      <td>0</td>\n",
              "      <td>0</td>\n",
              "      <td>0</td>\n",
              "      <td>0</td>\n",
              "      <td>0</td>\n",
              "      <td>0</td>\n",
              "      <td>0</td>\n",
              "      <td>0</td>\n",
              "      <td>0</td>\n",
              "      <td>0</td>\n",
              "    </tr>\n",
              "    <tr>\n",
              "      <th>4</th>\n",
              "      <td>25</td>\n",
              "      <td>149248</td>\n",
              "      <td>10</td>\n",
              "      <td>0</td>\n",
              "      <td>0</td>\n",
              "      <td>40</td>\n",
              "      <td>0</td>\n",
              "      <td>0</td>\n",
              "      <td>0</td>\n",
              "      <td>0</td>\n",
              "      <td>0</td>\n",
              "      <td>0</td>\n",
              "      <td>0</td>\n",
              "      <td>0</td>\n",
              "      <td>0</td>\n",
              "      <td>0</td>\n",
              "      <td>0</td>\n",
              "      <td>0</td>\n",
              "      <td>0</td>\n",
              "      <td>0</td>\n",
              "      <td>0</td>\n",
              "      <td>0</td>\n",
              "      <td>0</td>\n",
              "      <td>0</td>\n",
              "      <td>0</td>\n",
              "      <td>0</td>\n",
              "      <td>0</td>\n",
              "      <td>0</td>\n",
              "      <td>0</td>\n",
              "      <td>0</td>\n",
              "      <td>0</td>\n",
              "      <td>0</td>\n",
              "      <td>0</td>\n",
              "      <td>0</td>\n",
              "      <td>0</td>\n",
              "      <td>0</td>\n",
              "      <td>0</td>\n",
              "      <td>0</td>\n",
              "      <td>0</td>\n",
              "      <td>0</td>\n",
              "      <td>...</td>\n",
              "      <td>0</td>\n",
              "      <td>0</td>\n",
              "      <td>0</td>\n",
              "      <td>0</td>\n",
              "      <td>0</td>\n",
              "      <td>0</td>\n",
              "      <td>0</td>\n",
              "      <td>0</td>\n",
              "      <td>0</td>\n",
              "      <td>0</td>\n",
              "      <td>0</td>\n",
              "      <td>0</td>\n",
              "      <td>0</td>\n",
              "      <td>0</td>\n",
              "      <td>0</td>\n",
              "      <td>0</td>\n",
              "      <td>0</td>\n",
              "      <td>0</td>\n",
              "      <td>0</td>\n",
              "      <td>0</td>\n",
              "      <td>0</td>\n",
              "      <td>0</td>\n",
              "      <td>0</td>\n",
              "      <td>0</td>\n",
              "      <td>0</td>\n",
              "      <td>0</td>\n",
              "      <td>0</td>\n",
              "      <td>0</td>\n",
              "      <td>0</td>\n",
              "      <td>0</td>\n",
              "      <td>0</td>\n",
              "      <td>0</td>\n",
              "      <td>0</td>\n",
              "      <td>0</td>\n",
              "      <td>0</td>\n",
              "      <td>0</td>\n",
              "      <td>0</td>\n",
              "      <td>0</td>\n",
              "      <td>0</td>\n",
              "      <td>0</td>\n",
              "    </tr>\n",
              "  </tbody>\n",
              "</table>\n",
              "<p>5 rows × 105 columns</p>\n",
              "</div>"
            ],
            "text/plain": [
              "   age  fnlwgt  ...  native-country_Thailand  native-country_Laos\n",
              "0   67  366425  ...                        0                    0\n",
              "1   17  244602  ...                        0                    0\n",
              "2   31  174201  ...                        0                    0\n",
              "3   58  110199  ...                        0                    0\n",
              "4   25  149248  ...                        0                    0\n",
              "\n",
              "[5 rows x 105 columns]"
            ]
          },
          "metadata": {},
          "execution_count": 108
        }
      ]
    },
    {
      "cell_type": "code",
      "metadata": {
        "colab": {
          "base_uri": "https://localhost:8080/",
          "height": 287
        },
        "id": "QoYcGabF5rXK",
        "outputId": "f5d634c5-5eb1-4dd3-a226-7d46652d8e39"
      },
      "source": [
        "df_test.head()"
      ],
      "execution_count": 109,
      "outputs": [
        {
          "output_type": "execute_result",
          "data": {
            "text/html": [
              "<div>\n",
              "<style scoped>\n",
              "    .dataframe tbody tr th:only-of-type {\n",
              "        vertical-align: middle;\n",
              "    }\n",
              "\n",
              "    .dataframe tbody tr th {\n",
              "        vertical-align: top;\n",
              "    }\n",
              "\n",
              "    .dataframe thead th {\n",
              "        text-align: right;\n",
              "    }\n",
              "</style>\n",
              "<table border=\"1\" class=\"dataframe\">\n",
              "  <thead>\n",
              "    <tr style=\"text-align: right;\">\n",
              "      <th></th>\n",
              "      <th>age</th>\n",
              "      <th>fnlwgt</th>\n",
              "      <th>educational-num</th>\n",
              "      <th>capital-gain</th>\n",
              "      <th>capital-loss</th>\n",
              "      <th>hours-per-week</th>\n",
              "      <th>workclass_Self-emp-inc</th>\n",
              "      <th>workclass_Private</th>\n",
              "      <th>workclass_Federal-gov</th>\n",
              "      <th>workclass_State-gov</th>\n",
              "      <th>workclass_Local-gov</th>\n",
              "      <th>workclass_Without-pay</th>\n",
              "      <th>workclass_Self-emp-not-inc</th>\n",
              "      <th>education_7th-8th</th>\n",
              "      <th>education_HS-grad</th>\n",
              "      <th>education_9th</th>\n",
              "      <th>education_Assoc-voc</th>\n",
              "      <th>education_Bachelors</th>\n",
              "      <th>education_Preschool</th>\n",
              "      <th>education_11th</th>\n",
              "      <th>education_5th-6th</th>\n",
              "      <th>education_10th</th>\n",
              "      <th>education_Masters</th>\n",
              "      <th>education_1st-4th</th>\n",
              "      <th>education_Prof-school</th>\n",
              "      <th>education_12th</th>\n",
              "      <th>education_Doctorate</th>\n",
              "      <th>education_Assoc-acdm</th>\n",
              "      <th>education_Some-college</th>\n",
              "      <th>marital-status_Married-AF-spouse</th>\n",
              "      <th>marital-status_Separated</th>\n",
              "      <th>marital-status_Married-civ-spouse</th>\n",
              "      <th>marital-status_Widowed</th>\n",
              "      <th>marital-status_Never-married</th>\n",
              "      <th>marital-status_Married-spouse-absent</th>\n",
              "      <th>marital-status_Divorced</th>\n",
              "      <th>occupation_Transport-moving</th>\n",
              "      <th>occupation_Machine-op-inspct</th>\n",
              "      <th>occupation_Exec-managerial</th>\n",
              "      <th>occupation_Craft-repair</th>\n",
              "      <th>...</th>\n",
              "      <th>native-country_Jamaica</th>\n",
              "      <th>native-country_Dominican-Republic</th>\n",
              "      <th>native-country_Vietnam</th>\n",
              "      <th>native-country_Nicaragua</th>\n",
              "      <th>native-country_Taiwan</th>\n",
              "      <th>native-country_England</th>\n",
              "      <th>native-country_El-Salvador</th>\n",
              "      <th>native-country_United-States</th>\n",
              "      <th>native-country_Trinadad&amp;Tobago</th>\n",
              "      <th>native-country_Ecuador</th>\n",
              "      <th>native-country_Honduras</th>\n",
              "      <th>native-country_Cambodia</th>\n",
              "      <th>native-country_Holand-Netherlands</th>\n",
              "      <th>native-country_Iran</th>\n",
              "      <th>native-country_Germany</th>\n",
              "      <th>native-country_Mexico</th>\n",
              "      <th>native-country_India</th>\n",
              "      <th>native-country_Guatemala</th>\n",
              "      <th>native-country_Puerto-Rico</th>\n",
              "      <th>native-country_Yugoslavia</th>\n",
              "      <th>native-country_South</th>\n",
              "      <th>native-country_Outlying-US(Guam-USVI-etc)</th>\n",
              "      <th>native-country_Ireland</th>\n",
              "      <th>native-country_Greece</th>\n",
              "      <th>native-country_Haiti</th>\n",
              "      <th>native-country_France</th>\n",
              "      <th>native-country_Cuba</th>\n",
              "      <th>native-country_Philippines</th>\n",
              "      <th>native-country_Peru</th>\n",
              "      <th>native-country_Japan</th>\n",
              "      <th>native-country_Hong</th>\n",
              "      <th>native-country_Poland</th>\n",
              "      <th>native-country_Scotland</th>\n",
              "      <th>native-country_Columbia</th>\n",
              "      <th>native-country_Hungary</th>\n",
              "      <th>native-country_China</th>\n",
              "      <th>native-country_Portugal</th>\n",
              "      <th>native-country_Canada</th>\n",
              "      <th>native-country_Thailand</th>\n",
              "      <th>native-country_Laos</th>\n",
              "    </tr>\n",
              "  </thead>\n",
              "  <tbody>\n",
              "    <tr>\n",
              "      <th>0</th>\n",
              "      <td>39</td>\n",
              "      <td>327120</td>\n",
              "      <td>9</td>\n",
              "      <td>0</td>\n",
              "      <td>0</td>\n",
              "      <td>40</td>\n",
              "      <td>0</td>\n",
              "      <td>0</td>\n",
              "      <td>0</td>\n",
              "      <td>0</td>\n",
              "      <td>0</td>\n",
              "      <td>0</td>\n",
              "      <td>0</td>\n",
              "      <td>0</td>\n",
              "      <td>0</td>\n",
              "      <td>0</td>\n",
              "      <td>0</td>\n",
              "      <td>0</td>\n",
              "      <td>0</td>\n",
              "      <td>0</td>\n",
              "      <td>0</td>\n",
              "      <td>0</td>\n",
              "      <td>0</td>\n",
              "      <td>0</td>\n",
              "      <td>0</td>\n",
              "      <td>0</td>\n",
              "      <td>0</td>\n",
              "      <td>0</td>\n",
              "      <td>0</td>\n",
              "      <td>0</td>\n",
              "      <td>0</td>\n",
              "      <td>0</td>\n",
              "      <td>0</td>\n",
              "      <td>0</td>\n",
              "      <td>0</td>\n",
              "      <td>0</td>\n",
              "      <td>0</td>\n",
              "      <td>0</td>\n",
              "      <td>0</td>\n",
              "      <td>0</td>\n",
              "      <td>...</td>\n",
              "      <td>0</td>\n",
              "      <td>0</td>\n",
              "      <td>0</td>\n",
              "      <td>0</td>\n",
              "      <td>0</td>\n",
              "      <td>0</td>\n",
              "      <td>0</td>\n",
              "      <td>0</td>\n",
              "      <td>0</td>\n",
              "      <td>0</td>\n",
              "      <td>0</td>\n",
              "      <td>0</td>\n",
              "      <td>0</td>\n",
              "      <td>0</td>\n",
              "      <td>0</td>\n",
              "      <td>0</td>\n",
              "      <td>0</td>\n",
              "      <td>0</td>\n",
              "      <td>0</td>\n",
              "      <td>0</td>\n",
              "      <td>0</td>\n",
              "      <td>0</td>\n",
              "      <td>0</td>\n",
              "      <td>0</td>\n",
              "      <td>0</td>\n",
              "      <td>0</td>\n",
              "      <td>0</td>\n",
              "      <td>0</td>\n",
              "      <td>0</td>\n",
              "      <td>0</td>\n",
              "      <td>0</td>\n",
              "      <td>0</td>\n",
              "      <td>0</td>\n",
              "      <td>0</td>\n",
              "      <td>0</td>\n",
              "      <td>0</td>\n",
              "      <td>0</td>\n",
              "      <td>0</td>\n",
              "      <td>0</td>\n",
              "      <td>0</td>\n",
              "    </tr>\n",
              "    <tr>\n",
              "      <th>1</th>\n",
              "      <td>32</td>\n",
              "      <td>123253</td>\n",
              "      <td>12</td>\n",
              "      <td>0</td>\n",
              "      <td>0</td>\n",
              "      <td>42</td>\n",
              "      <td>0</td>\n",
              "      <td>0</td>\n",
              "      <td>0</td>\n",
              "      <td>0</td>\n",
              "      <td>0</td>\n",
              "      <td>0</td>\n",
              "      <td>0</td>\n",
              "      <td>0</td>\n",
              "      <td>0</td>\n",
              "      <td>0</td>\n",
              "      <td>0</td>\n",
              "      <td>0</td>\n",
              "      <td>0</td>\n",
              "      <td>0</td>\n",
              "      <td>0</td>\n",
              "      <td>0</td>\n",
              "      <td>0</td>\n",
              "      <td>0</td>\n",
              "      <td>0</td>\n",
              "      <td>0</td>\n",
              "      <td>0</td>\n",
              "      <td>0</td>\n",
              "      <td>0</td>\n",
              "      <td>0</td>\n",
              "      <td>0</td>\n",
              "      <td>0</td>\n",
              "      <td>0</td>\n",
              "      <td>0</td>\n",
              "      <td>0</td>\n",
              "      <td>0</td>\n",
              "      <td>0</td>\n",
              "      <td>0</td>\n",
              "      <td>0</td>\n",
              "      <td>0</td>\n",
              "      <td>...</td>\n",
              "      <td>0</td>\n",
              "      <td>0</td>\n",
              "      <td>0</td>\n",
              "      <td>0</td>\n",
              "      <td>0</td>\n",
              "      <td>0</td>\n",
              "      <td>0</td>\n",
              "      <td>0</td>\n",
              "      <td>0</td>\n",
              "      <td>0</td>\n",
              "      <td>0</td>\n",
              "      <td>0</td>\n",
              "      <td>0</td>\n",
              "      <td>0</td>\n",
              "      <td>0</td>\n",
              "      <td>0</td>\n",
              "      <td>0</td>\n",
              "      <td>0</td>\n",
              "      <td>0</td>\n",
              "      <td>0</td>\n",
              "      <td>0</td>\n",
              "      <td>0</td>\n",
              "      <td>0</td>\n",
              "      <td>0</td>\n",
              "      <td>0</td>\n",
              "      <td>0</td>\n",
              "      <td>0</td>\n",
              "      <td>0</td>\n",
              "      <td>0</td>\n",
              "      <td>0</td>\n",
              "      <td>0</td>\n",
              "      <td>0</td>\n",
              "      <td>0</td>\n",
              "      <td>0</td>\n",
              "      <td>0</td>\n",
              "      <td>0</td>\n",
              "      <td>0</td>\n",
              "      <td>0</td>\n",
              "      <td>0</td>\n",
              "      <td>0</td>\n",
              "    </tr>\n",
              "    <tr>\n",
              "      <th>2</th>\n",
              "      <td>47</td>\n",
              "      <td>232628</td>\n",
              "      <td>9</td>\n",
              "      <td>0</td>\n",
              "      <td>0</td>\n",
              "      <td>40</td>\n",
              "      <td>0</td>\n",
              "      <td>0</td>\n",
              "      <td>0</td>\n",
              "      <td>0</td>\n",
              "      <td>0</td>\n",
              "      <td>0</td>\n",
              "      <td>0</td>\n",
              "      <td>0</td>\n",
              "      <td>0</td>\n",
              "      <td>0</td>\n",
              "      <td>0</td>\n",
              "      <td>0</td>\n",
              "      <td>0</td>\n",
              "      <td>0</td>\n",
              "      <td>0</td>\n",
              "      <td>0</td>\n",
              "      <td>0</td>\n",
              "      <td>0</td>\n",
              "      <td>0</td>\n",
              "      <td>0</td>\n",
              "      <td>0</td>\n",
              "      <td>0</td>\n",
              "      <td>0</td>\n",
              "      <td>0</td>\n",
              "      <td>0</td>\n",
              "      <td>0</td>\n",
              "      <td>0</td>\n",
              "      <td>0</td>\n",
              "      <td>0</td>\n",
              "      <td>0</td>\n",
              "      <td>0</td>\n",
              "      <td>0</td>\n",
              "      <td>0</td>\n",
              "      <td>0</td>\n",
              "      <td>...</td>\n",
              "      <td>0</td>\n",
              "      <td>0</td>\n",
              "      <td>0</td>\n",
              "      <td>0</td>\n",
              "      <td>0</td>\n",
              "      <td>0</td>\n",
              "      <td>0</td>\n",
              "      <td>0</td>\n",
              "      <td>0</td>\n",
              "      <td>0</td>\n",
              "      <td>0</td>\n",
              "      <td>0</td>\n",
              "      <td>0</td>\n",
              "      <td>0</td>\n",
              "      <td>0</td>\n",
              "      <td>0</td>\n",
              "      <td>0</td>\n",
              "      <td>0</td>\n",
              "      <td>0</td>\n",
              "      <td>0</td>\n",
              "      <td>0</td>\n",
              "      <td>0</td>\n",
              "      <td>0</td>\n",
              "      <td>0</td>\n",
              "      <td>0</td>\n",
              "      <td>0</td>\n",
              "      <td>0</td>\n",
              "      <td>0</td>\n",
              "      <td>0</td>\n",
              "      <td>0</td>\n",
              "      <td>0</td>\n",
              "      <td>0</td>\n",
              "      <td>0</td>\n",
              "      <td>0</td>\n",
              "      <td>0</td>\n",
              "      <td>0</td>\n",
              "      <td>0</td>\n",
              "      <td>0</td>\n",
              "      <td>0</td>\n",
              "      <td>0</td>\n",
              "    </tr>\n",
              "    <tr>\n",
              "      <th>3</th>\n",
              "      <td>19</td>\n",
              "      <td>374262</td>\n",
              "      <td>8</td>\n",
              "      <td>0</td>\n",
              "      <td>0</td>\n",
              "      <td>20</td>\n",
              "      <td>0</td>\n",
              "      <td>0</td>\n",
              "      <td>0</td>\n",
              "      <td>0</td>\n",
              "      <td>0</td>\n",
              "      <td>0</td>\n",
              "      <td>0</td>\n",
              "      <td>0</td>\n",
              "      <td>0</td>\n",
              "      <td>0</td>\n",
              "      <td>0</td>\n",
              "      <td>0</td>\n",
              "      <td>0</td>\n",
              "      <td>0</td>\n",
              "      <td>0</td>\n",
              "      <td>0</td>\n",
              "      <td>0</td>\n",
              "      <td>0</td>\n",
              "      <td>0</td>\n",
              "      <td>0</td>\n",
              "      <td>0</td>\n",
              "      <td>0</td>\n",
              "      <td>0</td>\n",
              "      <td>0</td>\n",
              "      <td>0</td>\n",
              "      <td>0</td>\n",
              "      <td>0</td>\n",
              "      <td>0</td>\n",
              "      <td>0</td>\n",
              "      <td>0</td>\n",
              "      <td>0</td>\n",
              "      <td>0</td>\n",
              "      <td>0</td>\n",
              "      <td>0</td>\n",
              "      <td>...</td>\n",
              "      <td>0</td>\n",
              "      <td>0</td>\n",
              "      <td>0</td>\n",
              "      <td>0</td>\n",
              "      <td>0</td>\n",
              "      <td>0</td>\n",
              "      <td>0</td>\n",
              "      <td>0</td>\n",
              "      <td>0</td>\n",
              "      <td>0</td>\n",
              "      <td>0</td>\n",
              "      <td>0</td>\n",
              "      <td>0</td>\n",
              "      <td>0</td>\n",
              "      <td>0</td>\n",
              "      <td>0</td>\n",
              "      <td>0</td>\n",
              "      <td>0</td>\n",
              "      <td>0</td>\n",
              "      <td>0</td>\n",
              "      <td>0</td>\n",
              "      <td>0</td>\n",
              "      <td>0</td>\n",
              "      <td>0</td>\n",
              "      <td>0</td>\n",
              "      <td>0</td>\n",
              "      <td>0</td>\n",
              "      <td>0</td>\n",
              "      <td>0</td>\n",
              "      <td>0</td>\n",
              "      <td>0</td>\n",
              "      <td>0</td>\n",
              "      <td>0</td>\n",
              "      <td>0</td>\n",
              "      <td>0</td>\n",
              "      <td>0</td>\n",
              "      <td>0</td>\n",
              "      <td>0</td>\n",
              "      <td>0</td>\n",
              "      <td>0</td>\n",
              "    </tr>\n",
              "    <tr>\n",
              "      <th>4</th>\n",
              "      <td>46</td>\n",
              "      <td>311231</td>\n",
              "      <td>9</td>\n",
              "      <td>0</td>\n",
              "      <td>0</td>\n",
              "      <td>40</td>\n",
              "      <td>0</td>\n",
              "      <td>0</td>\n",
              "      <td>0</td>\n",
              "      <td>0</td>\n",
              "      <td>0</td>\n",
              "      <td>0</td>\n",
              "      <td>0</td>\n",
              "      <td>0</td>\n",
              "      <td>0</td>\n",
              "      <td>0</td>\n",
              "      <td>0</td>\n",
              "      <td>0</td>\n",
              "      <td>0</td>\n",
              "      <td>0</td>\n",
              "      <td>0</td>\n",
              "      <td>0</td>\n",
              "      <td>0</td>\n",
              "      <td>0</td>\n",
              "      <td>0</td>\n",
              "      <td>0</td>\n",
              "      <td>0</td>\n",
              "      <td>0</td>\n",
              "      <td>0</td>\n",
              "      <td>0</td>\n",
              "      <td>0</td>\n",
              "      <td>0</td>\n",
              "      <td>0</td>\n",
              "      <td>0</td>\n",
              "      <td>0</td>\n",
              "      <td>0</td>\n",
              "      <td>0</td>\n",
              "      <td>0</td>\n",
              "      <td>0</td>\n",
              "      <td>0</td>\n",
              "      <td>...</td>\n",
              "      <td>0</td>\n",
              "      <td>0</td>\n",
              "      <td>0</td>\n",
              "      <td>0</td>\n",
              "      <td>0</td>\n",
              "      <td>0</td>\n",
              "      <td>0</td>\n",
              "      <td>0</td>\n",
              "      <td>0</td>\n",
              "      <td>0</td>\n",
              "      <td>0</td>\n",
              "      <td>0</td>\n",
              "      <td>0</td>\n",
              "      <td>0</td>\n",
              "      <td>0</td>\n",
              "      <td>0</td>\n",
              "      <td>0</td>\n",
              "      <td>0</td>\n",
              "      <td>0</td>\n",
              "      <td>0</td>\n",
              "      <td>0</td>\n",
              "      <td>0</td>\n",
              "      <td>0</td>\n",
              "      <td>0</td>\n",
              "      <td>0</td>\n",
              "      <td>0</td>\n",
              "      <td>0</td>\n",
              "      <td>0</td>\n",
              "      <td>0</td>\n",
              "      <td>0</td>\n",
              "      <td>0</td>\n",
              "      <td>0</td>\n",
              "      <td>0</td>\n",
              "      <td>0</td>\n",
              "      <td>0</td>\n",
              "      <td>0</td>\n",
              "      <td>0</td>\n",
              "      <td>0</td>\n",
              "      <td>0</td>\n",
              "      <td>0</td>\n",
              "    </tr>\n",
              "  </tbody>\n",
              "</table>\n",
              "<p>5 rows × 104 columns</p>\n",
              "</div>"
            ],
            "text/plain": [
              "   age  fnlwgt  ...  native-country_Thailand  native-country_Laos\n",
              "0   39  327120  ...                        0                    0\n",
              "1   32  123253  ...                        0                    0\n",
              "2   47  232628  ...                        0                    0\n",
              "3   19  374262  ...                        0                    0\n",
              "4   46  311231  ...                        0                    0\n",
              "\n",
              "[5 rows x 104 columns]"
            ]
          },
          "metadata": {},
          "execution_count": 109
        }
      ]
    },
    {
      "cell_type": "markdown",
      "metadata": {
        "id": "Wm8GR1f7E9mE"
      },
      "source": [
        "#ขั้นตอนการเตรียมข้อมูลสอน ข้อมูลทวนสอบ และ ข้อมูลทดสอบ"
      ]
    },
    {
      "cell_type": "markdown",
      "metadata": {
        "id": "Qkpa0t4FdeyR"
      },
      "source": [
        "Import module สำหรับการแบ่งส่วนข้อมูลและ module สำหรับการทำ Normalization\n"
      ]
    },
    {
      "cell_type": "code",
      "metadata": {
        "id": "pneIBq1pFKsB"
      },
      "source": [
        "from sklearn.model_selection import train_test_split\n",
        "from sklearn.preprocessing import MinMaxScaler"
      ],
      "execution_count": 110,
      "outputs": []
    },
    {
      "cell_type": "markdown",
      "metadata": {
        "id": "4rzBA0e0jX3S"
      },
      "source": [
        "เก็บลักษณะต่าง ๆ ของชุดข้อมูลไว้ในตัวแปร X และ Class label ที่เป็นเหมือนคำตอบของชุดข้อมูลไว้ในตัวแปร y"
      ]
    },
    {
      "cell_type": "code",
      "metadata": {
        "id": "wMlbCj6Y57e7"
      },
      "source": [
        "X = df_train.drop(columns='income_>50K').values\n",
        "y = df_train.loc[:,['income_>50K']].values"
      ],
      "execution_count": 111,
      "outputs": []
    },
    {
      "cell_type": "markdown",
      "metadata": {
        "id": "O1MCReWuhryO"
      },
      "source": [
        "ทำการแบ่งข้อมูลออกเป็น 2 ส่วน จากข้อมูลที่มี 100% แบ่งออกเป็นชุดข้อมูล training set 80% และชุดข้อมูล test set 10%"
      ]
    },
    {
      "cell_type": "code",
      "metadata": {
        "id": "lswzZ2jbokzM"
      },
      "source": [
        "X_train, X_test, y_train, y_test = train_test_split(X, y, test_size=0.10, random_state=42)"
      ],
      "execution_count": 112,
      "outputs": []
    },
    {
      "cell_type": "markdown",
      "metadata": {
        "id": "CT6u6m-Tjh2-"
      },
      "source": [
        "Normalize ตัวแปร X_train และ X_test ชุดข้อมูลที่เป็นลักษณะให้อยู่ใน range 0 กับ 1"
      ]
    },
    {
      "cell_type": "code",
      "metadata": {
        "id": "94L69tle-7t3"
      },
      "source": [
        "scaler = MinMaxScaler()\n",
        "scaler.fit(X_train)\n",
        "X_train = scaler.transform(X_train)\n",
        "X_test = scaler.transform(X_test)"
      ],
      "execution_count": 113,
      "outputs": []
    },
    {
      "cell_type": "markdown",
      "metadata": {
        "id": "4POYalcXgCZB"
      },
      "source": [
        "# ขั้นตอนการสร้างและเปรียบเทียบโมเดล"
      ]
    },
    {
      "cell_type": "markdown",
      "metadata": {
        "id": "RckJU4HKkDzU"
      },
      "source": [
        "&emsp;โดยในขั้นตอนนี้จะทำการสร้างโมเดลมา 3 โมเดล ได้แก่ KNeighborsClassifier(KNN), Support Vector Machine(SVM) และ Neural Network \n",
        "\n",
        "&emsp;และนำโมเดลทั้ง 3 มาเปรียบเทียบค่าความแม่นยำ\n",
        "\n"
      ]
    },
    {
      "cell_type": "markdown",
      "metadata": {
        "id": "vflTSSl1j2mJ"
      },
      "source": [
        "Import module ต่าง ๆ สำหรับการสร้างโมเดลและการวัดประสิทธิภาพของโมเดล"
      ]
    },
    {
      "cell_type": "code",
      "metadata": {
        "id": "3l7Dv-sV53_T"
      },
      "source": [
        "from sklearn import metrics\n",
        "from sklearn.metrics import classification_report\n",
        "from sklearn.metrics import confusion_matrix\n",
        "from sklearn.metrics import accuracy_score\n",
        "from sklearn.metrics import f1_score\n",
        "from sklearn.metrics import f1_score, make_scorer\n",
        "from sklearn.model_selection import cross_val_score\n",
        "from sklearn.neighbors import KNeighborsClassifier\n",
        "from sklearn.svm import SVC\n",
        "from sklearn.neural_network import MLPClassifier"
      ],
      "execution_count": 114,
      "outputs": []
    },
    {
      "cell_type": "markdown",
      "metadata": {
        "id": "vVvy4Ns7lMQu"
      },
      "source": [
        "สำหรับโมเดล KNeighborsClassifier(KNN) จำเป็นจะต้องเซ็คค่าพารามิเตอร์ n_neighbors ในการใช้โมเดล วิธีที่จะหาว่า n_neighbors ทีีเท่าไรถึงจะดีที่สุด โดยจะทำการสอนโมเดลตั้งแต่ค่า n_neighbors เท่ากับ 1 จนถึง 20 และหา Error Rate ที่เท่าไรมีน้อยที่สุดคือค่า n_neighbors ที่ดีที่สุด"
      ]
    },
    {
      "cell_type": "code",
      "metadata": {
        "colab": {
          "base_uri": "https://localhost:8080/",
          "height": 421
        },
        "id": "F6NJWJwQ321Y",
        "outputId": "61e6a864-4411-4c28-aa34-25b5d589abd4"
      },
      "source": [
        "error=[]\n",
        "for i in range(1, 21):\n",
        "    knn = KNeighborsClassifier(n_neighbors=i)\n",
        "    knn.fit(X_train, y_train)\n",
        "    pred_i = knn.predict(X_test)\n",
        "    error.append(np.mean(pred_i != y_test))\n",
        "\n",
        "plt.figure(figsize=(12, 6))\n",
        "plt.plot(range(1, 21), error, color='red', linestyle='dashed', marker='o',\n",
        "         markerfacecolor='blue', markersize=10)\n",
        "plt.title('Error Rate K Value')\n",
        "plt.xlabel('K Value')\n",
        "plt.ylabel('Mean Error')"
      ],
      "execution_count": 115,
      "outputs": [
        {
          "output_type": "execute_result",
          "data": {
            "text/plain": [
              "Text(0, 0.5, 'Mean Error')"
            ]
          },
          "metadata": {},
          "execution_count": 115
        },
        {
          "output_type": "display_data",
          "data": {
            "image/png": "[encoded data removed]",
            "text/plain": [
              "<Figure size 864x432 with 1 Axes>"
            ]
          },
          "metadata": {
            "needs_background": "light"
          }
        }
      ]
    },
    {
      "cell_type": "markdown",
      "metadata": {
        "id": "Vo32u3lMKkk9"
      },
      "source": [
        "จะเห็นได้ว่าค่าที่ประมาณ 2 มีค่า Error rate ต่ำที่สุด จึงถูกนำไปใช้ในการทำโมเดล KNeighborsClassifier(KNN)"
      ]
    },
    {
      "cell_type": "markdown",
      "metadata": {
        "id": "_EKv_DcIQOvV"
      },
      "source": [
        "จากนั้นทำการสร้างโมเดลทั้ง 3 โมเดล\n",
        "\n",
        "*   KNeighborsClassifier เซ็ตค่าพารามิเตอร์ n_neighbors=2\n",
        "*   SVM เซ็คพารามืเตอร์ kernel='linear'\n",
        "*   MLPClassifier เซ็คพารามิเตอร์ solver='lbfgs' และ hidden_layer_sizes=53\n",
        "\n",
        "\n",
        "> hidden_layer_sizes สำหรับโมเดล Neural Network มาจากการประมาณ (จำนวนของลักษณะที่จะทำการทดสอบ/2)+1 \n",
        "\n",
        "ในชุดข้อมูลนี้ hidden_layer_sizes = (104/2)+1 = 53\n",
        "\n",
        "\n",
        "\n",
        "\n",
        "\n"
      ]
    },
    {
      "cell_type": "code",
      "metadata": {
        "id": "qOMKKUIU_3fy"
      },
      "source": [
        "models = []\n",
        "models.append(('KNN', KNeighborsClassifier(n_neighbors=2)))\n",
        "models.append(('SVM', SVC(kernel='linear')))\n",
        "models.append(('Neural Network', MLPClassifier(solver='lbfgs', hidden_layer_sizes=53)))"
      ],
      "execution_count": 116,
      "outputs": []
    },
    {
      "cell_type": "markdown",
      "metadata": {
        "id": "PV0l-MgbSxQ4"
      },
      "source": [
        "ทำการ Cross validation kfold=10 และแสดงผลค่า Accuracy ของแต่ละโมเดลออกมา"
      ]
    },
    {
      "cell_type": "code",
      "metadata": {
        "id": "GtKU71l2ozkK",
        "colab": {
          "base_uri": "https://localhost:8080/",
          "height": 362
        },
        "outputId": "a32c18b6-6fa2-411d-83f5-360b1cf31507"
      },
      "source": [
        "results = []\n",
        "names = []\n",
        "for name, model in models:\n",
        "\tcv_results = cross_val_score(model, X_train, y_train, cv=10, scoring='accuracy')\n",
        "\tresults.append(cv_results)\n",
        "\tnames.append(name)\n",
        "\tprint('%s: %f' % (name, cv_results.mean()))\n",
        "\n",
        "print()\n",
        "fig = plt.figure()\n",
        "fig.suptitle('Algorithm Comparison')\n",
        "ax = fig.add_subplot(111)\n",
        "plt.boxplot(results)\n",
        "ax.set_xticklabels(names)\n",
        "plt.show()"
      ],
      "execution_count": 117,
      "outputs": [
        {
          "output_type": "stream",
          "name": "stdout",
          "text": [
            "KNN: 0.791483\n",
            "SVM: 0.798385\n",
            "Neural Network: 0.817100\n",
            "\n"
          ]
        },
        {
          "output_type": "display_data",
          "data": {
            "image/png": "[encoded data removed]",
            "text/plain": [
              "<Figure size 432x288 with 1 Axes>"
            ]
          },
          "metadata": {
            "needs_background": "light"
          }
        }
      ]
    },
    {
      "cell_type": "markdown",
      "metadata": {
        "id": "RX_An2FfTD38"
      },
      "source": [
        "เห็นได้ว่าค่า Accuracy ของ Neural Network มีค่ามากที่สุด"
      ]
    },
    {
      "cell_type": "markdown",
      "metadata": {
        "id": "Un6n6zmFTW8k"
      },
      "source": [
        "จากนั้นนำโมเดลทั้ง 3 ไปทดสอบกับชุดข้อมูลสอนใหม่ X_train, y_train \n",
        "\n",
        "และนำไปทำนายกับชุดข้อมูลทดสอบ X_test\n",
        "\n",
        "และวัดค่าประสิทธิภาพกับชุดข้อมูลทวนสอบ y_train"
      ]
    },
    {
      "cell_type": "code",
      "metadata": {
        "colab": {
          "base_uri": "https://localhost:8080/"
        },
        "id": "BTpXY1Vps5Ot",
        "outputId": "8faffe58-e54d-45c5-932a-3becff3d16b4"
      },
      "source": [
        "print(\"Prediction accuracy\")\n",
        "for name, model in models:\n",
        "  model.fit(X_train, y_train)\n",
        "  y_pred = model.predict(X_test)\n",
        "  result = metrics.accuracy_score(y_test, y_pred)\n",
        "  print('%s: %f' % (name, result))\n",
        "  \n",
        "print(\"\\nf1_score\")\n",
        "for name, model in models:\n",
        "  model.fit(X_train, y_train)\n",
        "  y_pred = model.predict(X_test)\n",
        "  result = f1_score(y_test, y_pred)\n",
        "  print('%s: %f' % (name, result))"
      ],
      "execution_count": 118,
      "outputs": [
        {
          "output_type": "stream",
          "name": "stdout",
          "text": [
            "Prediction accuracy\n",
            "KNN: 0.806531\n",
            "SVM: 0.798429\n",
            "Neural Network: 0.820771\n",
            "\n",
            "f1_score\n",
            "KNN: 0.455801\n",
            "SVM: 0.397652\n",
            "Neural Network: 0.538269\n"
          ]
        }
      ]
    },
    {
      "cell_type": "markdown",
      "metadata": {
        "id": "OQMZV1FqUdOl"
      },
      "source": [
        "ค่าที่แสดงผลออกมาเป็นค่า Accuracy และ F1_score\n",
        "จะเห็นได้ว่าค่า Accuracy ในครั้งนี้เมื่อเทียบกับค่า Accuracy จากการทำ Cross validation จะมีค่าที่ใกล้เคียงกันมาก ทำให้บอกได้ว่าโมเดลทั้ง 3 ไม่เกิดการ Underfitting และ Overfitting"
      ]
    },
    {
      "cell_type": "markdown",
      "metadata": {
        "id": "vxOQmvEdAOIB"
      },
      "source": [
        "# ขั้นตอนการเลือกโมเดลในการจำแนกข้อมูล"
      ]
    },
    {
      "cell_type": "markdown",
      "metadata": {
        "id": "z43zNL4PV7yU"
      },
      "source": [
        "ในขั้นตอนนี้จะเลือกโมเดลที่มีค่า Accuracy มากที่สุดจากขั้นตอนที่แล้วนั้นคือ Neural Network มาปรับใช้ต่อ"
      ]
    },
    {
      "cell_type": "code",
      "metadata": {
        "id": "1ks8lnEslREU"
      },
      "source": [
        "target_names = ['class 0', 'class 1']"
      ],
      "execution_count": 119,
      "outputs": []
    },
    {
      "cell_type": "markdown",
      "metadata": {
        "id": "0luVijzNWUG1"
      },
      "source": [
        "สร้างโมเดล Neural Network และเซ็คพารามิเตอร์เป็น solver='lbfgs', hidden_layer_sizes=(53,28), max_iter=300\n",
        "\n",
        "ในรอบนี้จะเพิ่ม จำนวน hidden_layer เป็น 2 layers layer แรกมี 53 nodes layer ที่สองมี 28 nodes และเพิ่ม max_iter คือจำนวนรอบในการทดสอบเป็น 300 ครั้ง"
      ]
    },
    {
      "cell_type": "code",
      "metadata": {
        "colab": {
          "base_uri": "https://localhost:8080/"
        },
        "id": "JVvpQXiIAi74",
        "outputId": "26379124-eff1-4bd0-cd2e-21a164868405"
      },
      "source": [
        "NeuralNet = MLPClassifier(solver='lbfgs', hidden_layer_sizes=(53,28), max_iter=300)\n",
        "NeuralNet.fit(X_train, y_train)\n",
        "y_pred_NeuralNet = NeuralNet.predict(X_test)\n",
        "print(\"Confustion Matrix: \\n\",confusion_matrix(y_test, y_pred_NeuralNet))\n",
        "print()\n",
        "print(classification_report(y_test, y_pred_NeuralNet, target_names=target_names))\n",
        "print()\n",
        "print(\"Accuracy: \", metrics.accuracy_score(y_test, y_pred_NeuralNet))"
      ],
      "execution_count": 120,
      "outputs": [
        {
          "output_type": "stream",
          "name": "stdout",
          "text": [
            "Confustion Matrix: \n",
            " [[2907  170]\n",
            " [ 569  427]]\n",
            "\n",
            "              precision    recall  f1-score   support\n",
            "\n",
            "     class 0       0.84      0.94      0.89      3077\n",
            "     class 1       0.72      0.43      0.54       996\n",
            "\n",
            "    accuracy                           0.82      4073\n",
            "   macro avg       0.78      0.69      0.71      4073\n",
            "weighted avg       0.81      0.82      0.80      4073\n",
            "\n",
            "\n",
            "Accuracy:  0.8185612570586791\n"
          ]
        }
      ]
    },
    {
      "cell_type": "markdown",
      "metadata": {
        "id": "LPeDhqU-XjZT"
      },
      "source": [
        "ซึ่งผลลัพธ์ที่ได้ออกมามีค่า Accuracy ที่ใกล้เคียงกัน"
      ]
    },
    {
      "cell_type": "markdown",
      "metadata": {
        "id": "TYz9ym5CYliB"
      },
      "source": [
        "จากนั้นก็ลองมา tune จำนวนครั้งในการทดสอบโดยให้เริ่มจาก 100 ไปจนถึง 1000 ครั้ง"
      ]
    },
    {
      "cell_type": "code",
      "metadata": {
        "colab": {
          "base_uri": "https://localhost:8080/",
          "height": 421
        },
        "id": "5SFIldVrJDib",
        "outputId": "19b96ba0-a29f-401a-97bd-d2d47b627d3a"
      },
      "source": [
        "accuracy = []\n",
        "for i in range(100, 1100, 100):\n",
        "  model = MLPClassifier(solver='lbfgs', hidden_layer_sizes=53, max_iter=i)\n",
        "  model.fit(X_train, y_train)\n",
        "  y_pred = model.predict(X_test)\n",
        "  accuracy.append(metrics.accuracy_score(y_test, y_pred))\n",
        "  #print('iter %d: %f' % (i, metrics.accuracy_score(y_test, y_pred)))\n",
        "\n",
        "plt.figure(figsize=(12, 6))\n",
        "plt.plot(range(100, 1100, 100), accuracy, color='red', linestyle='dashed', marker='o',\n",
        "         markerfacecolor='blue', markersize=10)\n",
        "plt.title('Neural Network Iteration')\n",
        "plt.xlabel('Iteration')\n",
        "plt.ylabel('Accuracy')"
      ],
      "execution_count": 121,
      "outputs": [
        {
          "output_type": "execute_result",
          "data": {
            "text/plain": [
              "Text(0, 0.5, 'Accuracy')"
            ]
          },
          "metadata": {},
          "execution_count": 121
        },
        {
          "output_type": "display_data",
          "data": {
            "image/png": "[encoded data removed]",
            "text/plain": [
              "<Figure size 864x432 with 1 Axes>"
            ]
          },
          "metadata": {
            "needs_background": "light"
          }
        }
      ]
    },
    {
      "cell_type": "markdown",
      "metadata": {
        "id": "PbuY-U1xY4JO"
      },
      "source": [
        "กราฟที่ได้แสดงให้เห็นว่าถ้าเพิ่มจำนวนรอบในการทดสอบ (max_iter) แต่ละครั้งจะได้ค่า Accuracy ที่ต่างกันอย่างผกผันกัน"
      ]
    },
    {
      "cell_type": "markdown",
      "metadata": {
        "id": "4zyi2Iu9C7oR"
      },
      "source": [
        "#ขั้นตอนการทดสอบกับชุดข้อมูลทดสอบ Post-process"
      ]
    },
    {
      "cell_type": "markdown",
      "metadata": {
        "id": "yp-qchKHZZ3d"
      },
      "source": [
        "ในขั้นตอนนี้จะนำ df_test ที่ไม่มี Class label อยู่ มาทำนาย Class label โดยใช้โมเดล Neural Network จากขั้นตอนที่แล้ว"
      ]
    },
    {
      "cell_type": "code",
      "metadata": {
        "id": "wgZrNCoR_X5m"
      },
      "source": [
        "df_test2 = df_test.values\n",
        "df_test2 = scaler.transform(df_test2)\n",
        "y_pred_df_test = NeuralNet.predict(df_test2)\n",
        "df_test_with_class = df_test.copy()\n",
        "df_test_with_class['income_>50K'] = y_pred_df_test"
      ],
      "execution_count": 122,
      "outputs": []
    },
    {
      "cell_type": "code",
      "metadata": {
        "colab": {
          "base_uri": "https://localhost:8080/"
        },
        "id": "LEI73x4FLsvo",
        "outputId": "8ac4a9f3-f63b-4a59-d389-ffc2863eaab2"
      },
      "source": [
        "df_test_with_class['income_>50K'].value_counts()"
      ],
      "execution_count": 123,
      "outputs": [
        {
          "output_type": "execute_result",
          "data": {
            "text/plain": [
              "0    753\n",
              "1    146\n",
              "Name: income_>50K, dtype: int64"
            ]
          },
          "metadata": {},
          "execution_count": 123
        }
      ]
    },
    {
      "cell_type": "code",
      "metadata": {
        "colab": {
          "base_uri": "https://localhost:8080/",
          "height": 336
        },
        "id": "L8d1MRNoJYNU",
        "outputId": "9d5c4bdf-3ff3-4d61-b479-995d5c240048"
      },
      "source": [
        "plt.figure(figsize=(7,5))\n",
        "plt.bar(target_names,df_test_with_class['income_>50K'].value_counts())\n",
        "plt.title(\"Income_>50K\")\n",
        "plt.show()"
      ],
      "execution_count": 124,
      "outputs": [
        {
          "output_type": "display_data",
          "data": {
            "image/png": "[encoded data removed]",
            "text/plain": [
              "<Figure size 504x360 with 1 Axes>"
            ]
          },
          "metadata": {
            "needs_background": "light"
          }
        }
      ]
    },
    {
      "cell_type": "markdown",
      "metadata": {
        "id": "GAl72_ENbKiQ"
      },
      "source": [
        "&emsp;จะเห็นได้ว่าจากการทำนาย Income_>50K ของชุดข้อมูล df_test ข้อมูลส่วนใหญ่อยู่ใน class 0 ซึ่งหมายความว่าจำนวนประชากรส่วนใหญ่จากชุดข้อมูลนี้มีรายได้ที่ต่ำกว่า 50K \n",
        "\n",
        "&emsp;สามารถสรุปได้ว่าชุดข้อมูล Income Dataset มีลักษณะที่เป็น Class imbalance ซึ่งมี Class label (Income_>50K) ที่มีค่าเป็น class 0 มากกว่า class 1 มาก ทำให้การทำนายของโมเดลมีความเอนเอียงไปกับค่าที่เป็น class 0 มาก ซึ่งอาจจะบอกได้ว่าโมเดลนี้ Overfit กับ class 0 ถึงแม้ว่าการวัดจากค่า accuracy จากการทำ Cross validation และ fit model มีค่าเท่าที่ใกล้เคียงกันก็ตาม"
      ]
    },
    {
      "cell_type": "markdown",
      "metadata": {
        "id": "cpXKpDaTVOUB"
      },
      "source": [
        "# ดาวน์โหลด Data set หลังการทำ Pre-process "
      ]
    },
    {
      "cell_type": "code",
      "metadata": {
        "id": "o9hlDiHGVb6s"
      },
      "source": [
        "df_train.to_csv('df_train.csv')\n",
        "df_test.to_csv('df_test.csv')\n",
        "df_test_with_class.to_csv('df_test_with_class.csv')"
      ],
      "execution_count": 125,
      "outputs": []
    },
    {
      "cell_type": "markdown",
      "metadata": {
        "id": "YNS6yMSiGdJT"
      },
      "source": [
        "# รายชื่อผู้จัดทำ"
      ]
    },
    {
      "cell_type": "markdown",
      "metadata": {
        "id": "LEtIyLMlGqng"
      },
      "source": [
        "นายอาดีนัน อับดุลลี 6209650719"
      ]
    }
  ]
}