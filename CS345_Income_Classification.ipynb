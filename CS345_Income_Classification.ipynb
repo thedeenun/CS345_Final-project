{
  "nbformat": 4,
  "nbformat_minor": 0,
  "metadata": {
    "colab": {
      "name": "CS345_Income Classification.ipynb",
      "provenance": [],
      "authorship_tag": "ABX9TyNXDYD4m5/xpqsI/b8rcQwc",
      "include_colab_link": true
    },
    "kernelspec": {
      "name": "python3",
      "display_name": "Python 3"
    },
    "language_info": {
      "name": "python"
    }
  },
  "cells": [
    {
      "cell_type": "markdown",
      "metadata": {
        "id": "view-in-github",
        "colab_type": "text"
      },
      "source": [
        "<a href=\"https://colab.research.google.com/github/thedeenun/CS345_Final-project/blob/main/CS345_Income_Classification.ipynb\" target=\"_parent\"><img src=\"https://colab.research.google.com/assets/colab-badge.svg\" alt=\"Open In Colab\"/></a>"
      ]
    },
    {
      "cell_type": "markdown",
      "metadata": {
        "id": "3ii6e1XvAhpR"
      },
      "source": [
        "# Income Classification"
      ]
    },
    {
      "cell_type": "markdown",
      "metadata": {
        "id": "6YDavafA9w1h"
      },
      "source": [
        "##ลักษณะของกลุ่มข้อมูล (Data Description)\n",
        "หัวข้อ Income Dataset จาก https://www.kaggle.com/mastmustu/income ซึ่งเป็นข้อมูลที่มีเนื้อหาเกี่ยวกับลักษณะของประชากรที่มีรายได้มากกว่าหรือน้อยกว่า 50K\n",
        "\n",
        "โดย Data set ที่เลือกมา มีลักษณะดังนี้\n",
        "\n",
        "**Train Set**\n",
        "* Data set characteristic : Multivariate\n",
        "* Attribute characteristic : Integer, Object\n",
        "* จำนวน missing values : 5767\n",
        "* จำนวน Instance : 43958 \n",
        "* จำนวน Attribute: 15 ดังนี้\n",
        "  1. age : อายุ\n",
        "  2. workclass : ประเภทของการทำงาน \n",
        "  3. fnlwgt : final weight หรือ จำนวนของกลุ่มประชากรเป้าหมาย\n",
        "  4. education : ประเภทการศึกษา\n",
        "  5. educational-num : ตัวเลขของการศึกษา\n",
        "  6. marital-status : สถานะการสมรส\n",
        "  7. occupation : อาชีพ\n",
        "  8. relationship\t: ความสัมพันธ์\n",
        "  9. race : เชื้อชาติ\n",
        "  10. gender : เพศสภาพ\n",
        "  11. capital-gain : ผลกำไรจากส่วนต่างของราคาหลักทรัพย์\n",
        "  12. capital-loss : ผลขาดทุนจากส่วนต่างของราคาหลักทรัพย์\n",
        "  13. hours-per-week : ชั่วโมงการทำงานต่อสัปดาห์\n",
        "  14. native-country\t: ประเทศแต่กำเนิด\n",
        "  15. income_>50K : รายได้มากกว่า 50K\n",
        "\n",
        "\n",
        "**Test Set**\n",
        "* Data set characteristic : Multivariate\n",
        "* Attribute characteristic : Integer, Object\n",
        "* จำนวน missing values : 0\n",
        "* จำนวน Instance : 899 \n",
        "* จำนวน Attribute: 14 ดังนี้\n",
        "  1. age : อายุ\n",
        "  2. workclass : ประเภทของการทำงาน \n",
        "  3. fnlwgt : final weight หรือ จำนวนของกลุ่มประชากรเป้าหมาย\n",
        "  4. education : ประเภทการศึกษา\n",
        "  5. educational-num : ตัวเลขของการศึกษา\n",
        "  6. marital-status : สถานะการสมรส\n",
        "  7. occupation : อาชีพ\n",
        "  8. relationship\t: ความสัมพันธ์\n",
        "  9. race : เชื้อชาติ\n",
        "  10. gender : เพศสภาพ\n",
        "  11. capital-gain : ผลกำไรจากส่วนต่างของราคาหลักทรัพย์\n",
        "  12. capital-loss : ผลขาดทุนจากส่วนต่างของราคาหลักทรัพย์\n",
        "  13. hours-per-week : ชั่วโมงการทำงานต่อสัปดาห์\n",
        "  14. native-country\t: ประเทศแต่กำเนิด\n",
        "\n",
        "\n",
        "  โดยจะใช้ลักษะของข้อมูลทั้งหมดของข้อมูลมาทำ Classification เพื่อทำนายว่าจะมีจำนวนผู้ที่มีรายได้มากกว่าหรือน้อยกว่า 5 หมื่น (income_>50K) เป็นเท่าใดบ้าง\n",
        "\n",
        "*   Class label: income_>50K\n",
        "\n",
        "\n"
      ]
    },
    {
      "cell_type": "markdown",
      "metadata": {
        "id": "NfTuxxEY4iUL"
      },
      "source": [
        "# ขั้นตอนการเตรียมชุดข้อมูล"
      ]
    },
    {
      "cell_type": "markdown",
      "metadata": {
        "id": "yRbXEh_s69-9"
      },
      "source": [
        "Import module ต่าง ๆ ที่จำเป็นต้องใช้"
      ]
    },
    {
      "cell_type": "code",
      "metadata": {
        "id": "cIWGT7HGoFcC"
      },
      "source": [
        "import numpy as np\n",
        "import pandas as pd\n",
        "import matplotlib.pyplot as plt\n",
        "import seaborn as sns\n",
        "import warnings\n",
        "warnings.filterwarnings('ignore')"
      ],
      "execution_count": 1,
      "outputs": []
    },
    {
      "cell_type": "markdown",
      "metadata": {
        "id": "RM3MjrqB7FUI"
      },
      "source": [
        "Import data file ทั้งสองโดย\n",
        "\n",
        "\n",
        "*   train.csv เก็บไว้ในตัวแปร df_train\n",
        "*   test.csv เก็บไว้ในตัวแปร df_test\n",
        "\n",
        "\n",
        "\n",
        "\n"
      ]
    },
    {
      "cell_type": "code",
      "metadata": {
        "id": "RZEv4zLAybRD"
      },
      "source": [
        "df_train = pd.read_csv('/content/train.csv')\n",
        "df_test = pd.read_csv('/content/test.csv')"
      ],
      "execution_count": 2,
      "outputs": []
    },
    {
      "cell_type": "markdown",
      "metadata": {
        "id": "lRW4KAKW6pzP"
      },
      "source": [
        "แสดงผลประเภทของข้อมูลของแต่ละคอมลัมน์จาก df_train"
      ]
    },
    {
      "cell_type": "code",
      "metadata": {
        "colab": {
          "base_uri": "https://localhost:8080/"
        },
        "id": "glvt4ukbef3e",
        "outputId": "83a84652-15b7-40d3-f1f2-2309c77aaffb"
      },
      "source": [
        "df_train.info()"
      ],
      "execution_count": 3,
      "outputs": [
        {
          "output_type": "stream",
          "name": "stdout",
          "text": [
            "<class 'pandas.core.frame.DataFrame'>\n",
            "RangeIndex: 43957 entries, 0 to 43956\n",
            "Data columns (total 15 columns):\n",
            " #   Column           Non-Null Count  Dtype \n",
            "---  ------           --------------  ----- \n",
            " 0   age              43957 non-null  int64 \n",
            " 1   workclass        41459 non-null  object\n",
            " 2   fnlwgt           43957 non-null  int64 \n",
            " 3   education        43957 non-null  object\n",
            " 4   educational-num  43957 non-null  int64 \n",
            " 5   marital-status   43957 non-null  object\n",
            " 6   occupation       41451 non-null  object\n",
            " 7   relationship     43957 non-null  object\n",
            " 8   race             43957 non-null  object\n",
            " 9   gender           43957 non-null  object\n",
            " 10  capital-gain     43957 non-null  int64 \n",
            " 11  capital-loss     43957 non-null  int64 \n",
            " 12  hours-per-week   43957 non-null  int64 \n",
            " 13  native-country   43194 non-null  object\n",
            " 14  income_>50K      43957 non-null  int64 \n",
            "dtypes: int64(7), object(8)\n",
            "memory usage: 5.0+ MB\n"
          ]
        }
      ]
    },
    {
      "cell_type": "markdown",
      "metadata": {
        "id": "2mYmPsLf72Om"
      },
      "source": [
        "ใช้ isnull() เพื่อตรวจสอบว่าข้อมูลใน df_train มีค่า null หรือไม่"
      ]
    },
    {
      "cell_type": "code",
      "metadata": {
        "colab": {
          "base_uri": "https://localhost:8080/"
        },
        "id": "HXpwoca67EWv",
        "outputId": "415b695b-7a0b-4909-dd28-41f85b161821"
      },
      "source": [
        "df_train.isnull().sum()"
      ],
      "execution_count": 4,
      "outputs": [
        {
          "output_type": "execute_result",
          "data": {
            "text/plain": [
              "age                   0\n",
              "workclass          2498\n",
              "fnlwgt                0\n",
              "education             0\n",
              "educational-num       0\n",
              "marital-status        0\n",
              "occupation         2506\n",
              "relationship          0\n",
              "race                  0\n",
              "gender                0\n",
              "capital-gain          0\n",
              "capital-loss          0\n",
              "hours-per-week        0\n",
              "native-country      763\n",
              "income_>50K           0\n",
              "dtype: int64"
            ]
          },
          "metadata": {},
          "execution_count": 4
        }
      ]
    },
    {
      "cell_type": "markdown",
      "metadata": {
        "id": "POzhy43u8BJJ"
      },
      "source": [
        "ทำการ drop แถวที่มีค่า null ใน df_train ทั้งหมด"
      ]
    },
    {
      "cell_type": "code",
      "metadata": {
        "id": "-HA7rmGm09z0"
      },
      "source": [
        "df_train.dropna(axis=0, inplace=True)"
      ],
      "execution_count": 5,
      "outputs": []
    },
    {
      "cell_type": "markdown",
      "metadata": {
        "id": "YMlhsor-7z9C"
      },
      "source": [
        "แสดงผลประเภทของข้อมูลของแต่ละคอมลัมน์จาก df_test"
      ]
    },
    {
      "cell_type": "code",
      "metadata": {
        "colab": {
          "base_uri": "https://localhost:8080/"
        },
        "id": "u5usyzWixh0D",
        "outputId": "a620977f-be3e-4f46-9d2b-743ff1453efd"
      },
      "source": [
        "df_test.info()"
      ],
      "execution_count": 6,
      "outputs": [
        {
          "output_type": "stream",
          "name": "stdout",
          "text": [
            "<class 'pandas.core.frame.DataFrame'>\n",
            "RangeIndex: 899 entries, 0 to 898\n",
            "Data columns (total 14 columns):\n",
            " #   Column           Non-Null Count  Dtype \n",
            "---  ------           --------------  ----- \n",
            " 0   age              899 non-null    int64 \n",
            " 1   workclass        899 non-null    object\n",
            " 2   fnlwgt           899 non-null    int64 \n",
            " 3   education        899 non-null    object\n",
            " 4   educational-num  899 non-null    int64 \n",
            " 5   marital-status   899 non-null    object\n",
            " 6   occupation       899 non-null    object\n",
            " 7   relationship     899 non-null    object\n",
            " 8   race             899 non-null    object\n",
            " 9   gender           899 non-null    object\n",
            " 10  capital-gain     899 non-null    int64 \n",
            " 11  capital-loss     899 non-null    int64 \n",
            " 12  hours-per-week   899 non-null    int64 \n",
            " 13  native-country   899 non-null    object\n",
            "dtypes: int64(6), object(8)\n",
            "memory usage: 98.5+ KB\n"
          ]
        }
      ]
    },
    {
      "cell_type": "markdown",
      "metadata": {
        "id": "V7llZc4J8MjV"
      },
      "source": [
        "ใช้ isnull() เพื่อตรวจสอบว่าข้อมูลใน df_test มีค่า null หรือไม่"
      ]
    },
    {
      "cell_type": "code",
      "metadata": {
        "colab": {
          "base_uri": "https://localhost:8080/"
        },
        "id": "_FhTcb9ziDLh",
        "outputId": "3f388cac-d20d-481d-f416-a74157b1658e"
      },
      "source": [
        "df_test.isnull().sum()"
      ],
      "execution_count": 7,
      "outputs": [
        {
          "output_type": "execute_result",
          "data": {
            "text/plain": [
              "age                0\n",
              "workclass          0\n",
              "fnlwgt             0\n",
              "education          0\n",
              "educational-num    0\n",
              "marital-status     0\n",
              "occupation         0\n",
              "relationship       0\n",
              "race               0\n",
              "gender             0\n",
              "capital-gain       0\n",
              "capital-loss       0\n",
              "hours-per-week     0\n",
              "native-country     0\n",
              "dtype: int64"
            ]
          },
          "metadata": {},
          "execution_count": 7
        }
      ]
    },
    {
      "cell_type": "markdown",
      "metadata": {
        "id": "_qgoT_eM8O3t"
      },
      "source": [
        "ตรวจสอบ Class label จาก df_train ว่าเป็น Class balance หรือ Class imbalance"
      ]
    },
    {
      "cell_type": "code",
      "metadata": {
        "colab": {
          "base_uri": "https://localhost:8080/"
        },
        "id": "A_MO-Ww7ThoQ",
        "outputId": "205d5031-314e-4566-dc40-3fedc4d54236"
      },
      "source": [
        "df_train['income_>50K'].value_counts()"
      ],
      "execution_count": 8,
      "outputs": [
        {
          "output_type": "execute_result",
          "data": {
            "text/plain": [
              "0    30635\n",
              "1    10092\n",
              "Name: income_>50K, dtype: int64"
            ]
          },
          "metadata": {},
          "execution_count": 8
        }
      ]
    },
    {
      "cell_type": "markdown",
      "metadata": {
        "id": "Z_YapEw59NTv"
      },
      "source": [
        "จำนวนของ income_>50K ของทั้งสอง class มีไม่เท่ากัน จึงสรุปได้ว่า df_train เป็น Class imbalance"
      ]
    },
    {
      "cell_type": "markdown",
      "metadata": {
        "id": "3ebcSbukgGMH"
      },
      "source": [
        "#ขั้นตอนการแปลงข้อมูลประเภท Nominal หรือ Ordinal ให้เป็น Numerical (One hot encoding)"
      ]
    },
    {
      "cell_type": "markdown",
      "metadata": {
        "id": "GTJbI2Zl-YbV"
      },
      "source": [
        "&emsp;*การทำแปลงข้อมูลประเภท Nominal หรือ Ordinal ให้เป็น Numerical* หรือเรียกว่าการทำ One hot encoding คือ การแปลงข้อมูลที่เป็นประเภท String หรือ Objict ให้เป็นค่า 0 หรือ 1 โดยจะต้องแยกย่อยคอลัมน์ที่มีอยู่ให้เป็นหลาย ๆ คอลัมน์ตามจำนวนลักษณะ(Attributes) ที่มีอยู่ในคอลัมน์นั้น เช่น คอลัมน์ gender มีลักษณะคือ Male และ Female หลังจากทำ One hot encoding คอลัมน์ gender จะหายไปกลายเป็นคอลัมน์ gender_Male กับ gender_Female แทน และถ้าหากแถวของข้อมูลนั้นแต่เดิมมี gender เป็น Male ก็จะเช็ตค่า 1 ในคอลัมน์ gender_Male และเซ็ตค่า 0 ในคอลัมน์ gender_Female\n",
        "\n",
        "> Pandas มีฟังก์ชั่น get_dummies ที่สามารถทำ One hot encoding ได้\n",
        "\n",
        "&emsp;แต่เนื่องจาก df_train และ df_test มีลักษณะที่อยู่ในแต่ละคอลัมน์ที่ไม่เหมือนกันอยู่ จึงไม่สามารถใช้ get_dummies เพื่อทำ One hot encoding ได้ จึงทำการใช้วิธีต่อไปนี้เพื่อทำ One hot encoding สำหรับชุดข้อมูลทั้งสอง\n",
        "\n"
      ]
    },
    {
      "cell_type": "code",
      "metadata": {
        "colab": {
          "base_uri": "https://localhost:8080/"
        },
        "id": "t9ss6b7N0R83",
        "outputId": "a68776d0-d3f6-413c-bedd-d4163e395a40"
      },
      "source": [
        "list_columns_onehotendcode = []\n",
        "list_columns = ['workclass', 'education', 'marital-status', 'occupation', 'relationship', 'race', 'gender', 'native-country']\n",
        "for i in  list_columns:\n",
        "  for j in set(df_train[i]):\n",
        "    temp = i+\"_\"+j\n",
        "    if j not in list_columns_onehotendcode:\n",
        "      list_columns_onehotendcode.append(temp)\n",
        "  for j in set(df_test[i]):\n",
        "    temp = i+\"_\"+j\n",
        "    if j not in list_columns_onehotendcode:\n",
        "      list_columns_onehotendcode.append(temp)    \n",
        "\n",
        "print(list_columns_onehotendcode)"
      ],
      "execution_count": 9,
      "outputs": [
        {
          "output_type": "stream",
          "name": "stdout",
          "text": [
            "['workclass_Self-emp-inc', 'workclass_Private', 'workclass_Federal-gov', 'workclass_State-gov', 'workclass_Local-gov', 'workclass_Without-pay', 'workclass_Self-emp-not-inc', 'workclass_Self-emp-inc', 'workclass_Private', 'workclass_Federal-gov', 'workclass_State-gov', 'workclass_Local-gov', 'workclass_Self-emp-not-inc', 'education_7th-8th', 'education_HS-grad', 'education_9th', 'education_Assoc-voc', 'education_Bachelors', 'education_Preschool', 'education_11th', 'education_5th-6th', 'education_10th', 'education_Masters', 'education_1st-4th', 'education_Prof-school', 'education_12th', 'education_Doctorate', 'education_Assoc-acdm', 'education_Some-college', 'education_7th-8th', 'education_HS-grad', 'education_Assoc-voc', 'education_9th', 'education_Bachelors', 'education_Preschool', 'education_11th', 'education_5th-6th', 'education_Masters', 'education_10th', 'education_1st-4th', 'education_Prof-school', 'education_12th', 'education_Doctorate', 'education_Assoc-acdm', 'education_Some-college', 'marital-status_Married-AF-spouse', 'marital-status_Separated', 'marital-status_Married-civ-spouse', 'marital-status_Widowed', 'marital-status_Never-married', 'marital-status_Married-spouse-absent', 'marital-status_Divorced', 'marital-status_Married-AF-spouse', 'marital-status_Separated', 'marital-status_Married-civ-spouse', 'marital-status_Widowed', 'marital-status_Never-married', 'marital-status_Married-spouse-absent', 'marital-status_Divorced', 'occupation_Transport-moving', 'occupation_Machine-op-inspct', 'occupation_Exec-managerial', 'occupation_Craft-repair', 'occupation_Farming-fishing', 'occupation_Armed-Forces', 'occupation_Handlers-cleaners', 'occupation_Sales', 'occupation_Prof-specialty', 'occupation_Adm-clerical', 'occupation_Tech-support', 'occupation_Other-service', 'occupation_Priv-house-serv', 'occupation_Protective-serv', 'occupation_Transport-moving', 'occupation_Machine-op-inspct', 'occupation_Craft-repair', 'occupation_Farming-fishing', 'occupation_Armed-Forces', 'occupation_Handlers-cleaners', 'occupation_Other-service', 'occupation_Prof-specialty', 'occupation_Adm-clerical', 'occupation_Exec-managerial', 'occupation_Tech-support', 'occupation_Sales', 'occupation_Priv-house-serv', 'occupation_Protective-serv', 'relationship_Other-relative', 'relationship_Not-in-family', 'relationship_Unmarried', 'relationship_Wife', 'relationship_Own-child', 'relationship_Husband', 'relationship_Other-relative', 'relationship_Not-in-family', 'relationship_Unmarried', 'relationship_Wife', 'relationship_Own-child', 'relationship_Husband', 'race_Other', 'race_Asian-Pac-Islander', 'race_Amer-Indian-Eskimo', 'race_Black', 'race_White', 'race_Other', 'race_Asian-Pac-Islander', 'race_Amer-Indian-Eskimo', 'race_Black', 'race_White', 'gender_Female', 'gender_Male', 'gender_Female', 'gender_Male', 'native-country_Italy', 'native-country_Jamaica', 'native-country_Dominican-Republic', 'native-country_Vietnam', 'native-country_Nicaragua', 'native-country_Taiwan', 'native-country_England', 'native-country_El-Salvador', 'native-country_United-States', 'native-country_Trinadad&Tobago', 'native-country_Ecuador', 'native-country_Honduras', 'native-country_Cambodia', 'native-country_Holand-Netherlands', 'native-country_Iran', 'native-country_Germany', 'native-country_Mexico', 'native-country_India', 'native-country_Guatemala', 'native-country_Puerto-Rico', 'native-country_Yugoslavia', 'native-country_South', 'native-country_Outlying-US(Guam-USVI-etc)', 'native-country_Ireland', 'native-country_Greece', 'native-country_Haiti', 'native-country_France', 'native-country_Cuba', 'native-country_Philippines', 'native-country_Peru', 'native-country_Japan', 'native-country_Hong', 'native-country_Poland', 'native-country_Scotland', 'native-country_Columbia', 'native-country_Hungary', 'native-country_China', 'native-country_Portugal', 'native-country_Canada', 'native-country_Thailand', 'native-country_Laos', 'native-country_Italy', 'native-country_Jamaica', 'native-country_Dominican-Republic', 'native-country_Nicaragua', 'native-country_Taiwan', 'native-country_England', 'native-country_El-Salvador', 'native-country_United-States', 'native-country_Trinadad&Tobago', 'native-country_Ecuador', 'native-country_Cambodia', 'native-country_Germany', 'native-country_Mexico', 'native-country_India', 'native-country_Guatemala', 'native-country_Puerto-Rico', 'native-country_South', 'native-country_Greece', 'native-country_Haiti', 'native-country_France', 'native-country_Cuba', 'native-country_Philippines', 'native-country_Poland', 'native-country_Columbia', 'native-country_China', 'native-country_Portugal', 'native-country_Canada', 'native-country_Thailand', 'native-country_Laos']\n"
          ]
        }
      ]
    },
    {
      "cell_type": "markdown",
      "metadata": {
        "id": "bxrYaaQZCpMz"
      },
      "source": [
        "เพิ่มคอลัมน์ย่อยที่ได้จากการทำ one hot encoding เข้าไปใน df_train และ df_test จากนั้นเซ็ตค่าให้เป็น 0 ก่อน"
      ]
    },
    {
      "cell_type": "code",
      "metadata": {
        "id": "ps9y__p_3s_u"
      },
      "source": [
        "df_train[list_columns_onehotendcode] = 0\n",
        "df_test[list_columns_onehotendcode] = 0"
      ],
      "execution_count": 17,
      "outputs": []
    },
    {
      "cell_type": "markdown",
      "metadata": {
        "id": "BgekCorcCZeE"
      },
      "source": [
        "เซ็ตค่าเท่ากับ 1 สำหรับคอลัมน์ที่มีลักษณะจาก list_colums_onehotencode ปรากกฎอยู่"
      ]
    },
    {
      "cell_type": "code",
      "metadata": {
        "id": "VIATJIfu2t5P"
      },
      "source": [
        "for i in list_columns:\n",
        "  for j in list_columns_onehotendcode:\n",
        "    df_train.loc[df_train[i].str.contains(j,case=False),j]=1\n",
        "    df_test.loc[df_test[i].str.contains(j,case=False),j]=1"
      ],
      "execution_count": 18,
      "outputs": []
    },
    {
      "cell_type": "markdown",
      "metadata": {
        "id": "IOCyUjbWCHp8"
      },
      "source": [
        "ทำการ drop คอลัมน์ดั้งเดิมก่อนทำ One hot encoding ทิ้งไป"
      ]
    },
    {
      "cell_type": "code",
      "metadata": {
        "id": "Shulu8h93hSS"
      },
      "source": [
        "df_train.drop(columns=list_columns, inplace=True)\n",
        "df_test.drop(columns=list_columns, inplace=True)"
      ],
      "execution_count": 19,
      "outputs": []
    },
    {
      "cell_type": "markdown",
      "metadata": {
        "id": "N34FH3ueDYms"
      },
      "source": [
        "จำนวนคอลัมน์ของ df_train เพิ่มขึ้นมาจาก 15 เป็น 105\n",
        "\n",
        "จำนวนคอลัมน์ของ df_test เพิ่มขึ้นมาจาก 14 เป็น 104 เนื่องจาก df_test ไม่มี class label (income_>50K) อยู่ด้วย\n"
      ]
    },
    {
      "cell_type": "code",
      "metadata": {
        "colab": {
          "base_uri": "https://localhost:8080/"
        },
        "id": "79HaH5sHBwYM",
        "outputId": "c3df5d74-2812-40c6-e646-fc88c735413b"
      },
      "source": [
        "print(\"df_train:\", df_train.shape)\n",
        "print(\"df_test:\", df_test.shape)"
      ],
      "execution_count": 20,
      "outputs": [
        {
          "output_type": "stream",
          "name": "stdout",
          "text": [
            "df_train: (40727, 105)\n",
            "df_test: (899, 104)\n"
          ]
        }
      ]
    },
    {
      "cell_type": "code",
      "metadata": {
        "colab": {
          "base_uri": "https://localhost:8080/",
          "height": 287
        },
        "id": "Kr1GuoZR7cY7",
        "outputId": "475b8634-ceee-496b-bd47-e611bdc51535"
      },
      "source": [
        "df_train.head()"
      ],
      "execution_count": 21,
      "outputs": [
        {
          "output_type": "execute_result",
          "data": {
            "text/html": [
              "<div>\n",
              "<style scoped>\n",
              "    .dataframe tbody tr th:only-of-type {\n",
              "        vertical-align: middle;\n",
              "    }\n",
              "\n",
              "    .dataframe tbody tr th {\n",
              "        vertical-align: top;\n",
              "    }\n",
              "\n",
              "    .dataframe thead th {\n",
              "        text-align: right;\n",
              "    }\n",
              "</style>\n",
              "<table border=\"1\" class=\"dataframe\">\n",
              "  <thead>\n",
              "    <tr style=\"text-align: right;\">\n",
              "      <th></th>\n",
              "      <th>age</th>\n",
              "      <th>fnlwgt</th>\n",
              "      <th>educational-num</th>\n",
              "      <th>capital-gain</th>\n",
              "      <th>capital-loss</th>\n",
              "      <th>hours-per-week</th>\n",
              "      <th>income_&gt;50K</th>\n",
              "      <th>workclass_Self-emp-inc</th>\n",
              "      <th>workclass_Private</th>\n",
              "      <th>workclass_Federal-gov</th>\n",
              "      <th>workclass_State-gov</th>\n",
              "      <th>workclass_Local-gov</th>\n",
              "      <th>workclass_Without-pay</th>\n",
              "      <th>workclass_Self-emp-not-inc</th>\n",
              "      <th>education_7th-8th</th>\n",
              "      <th>education_HS-grad</th>\n",
              "      <th>education_9th</th>\n",
              "      <th>education_Assoc-voc</th>\n",
              "      <th>education_Bachelors</th>\n",
              "      <th>education_Preschool</th>\n",
              "      <th>education_11th</th>\n",
              "      <th>education_5th-6th</th>\n",
              "      <th>education_10th</th>\n",
              "      <th>education_Masters</th>\n",
              "      <th>education_1st-4th</th>\n",
              "      <th>education_Prof-school</th>\n",
              "      <th>education_12th</th>\n",
              "      <th>education_Doctorate</th>\n",
              "      <th>education_Assoc-acdm</th>\n",
              "      <th>education_Some-college</th>\n",
              "      <th>marital-status_Married-AF-spouse</th>\n",
              "      <th>marital-status_Separated</th>\n",
              "      <th>marital-status_Married-civ-spouse</th>\n",
              "      <th>marital-status_Widowed</th>\n",
              "      <th>marital-status_Never-married</th>\n",
              "      <th>marital-status_Married-spouse-absent</th>\n",
              "      <th>marital-status_Divorced</th>\n",
              "      <th>occupation_Transport-moving</th>\n",
              "      <th>occupation_Machine-op-inspct</th>\n",
              "      <th>occupation_Exec-managerial</th>\n",
              "      <th>...</th>\n",
              "      <th>native-country_Jamaica</th>\n",
              "      <th>native-country_Dominican-Republic</th>\n",
              "      <th>native-country_Vietnam</th>\n",
              "      <th>native-country_Nicaragua</th>\n",
              "      <th>native-country_Taiwan</th>\n",
              "      <th>native-country_England</th>\n",
              "      <th>native-country_El-Salvador</th>\n",
              "      <th>native-country_United-States</th>\n",
              "      <th>native-country_Trinadad&amp;Tobago</th>\n",
              "      <th>native-country_Ecuador</th>\n",
              "      <th>native-country_Honduras</th>\n",
              "      <th>native-country_Cambodia</th>\n",
              "      <th>native-country_Holand-Netherlands</th>\n",
              "      <th>native-country_Iran</th>\n",
              "      <th>native-country_Germany</th>\n",
              "      <th>native-country_Mexico</th>\n",
              "      <th>native-country_India</th>\n",
              "      <th>native-country_Guatemala</th>\n",
              "      <th>native-country_Puerto-Rico</th>\n",
              "      <th>native-country_Yugoslavia</th>\n",
              "      <th>native-country_South</th>\n",
              "      <th>native-country_Outlying-US(Guam-USVI-etc)</th>\n",
              "      <th>native-country_Ireland</th>\n",
              "      <th>native-country_Greece</th>\n",
              "      <th>native-country_Haiti</th>\n",
              "      <th>native-country_France</th>\n",
              "      <th>native-country_Cuba</th>\n",
              "      <th>native-country_Philippines</th>\n",
              "      <th>native-country_Peru</th>\n",
              "      <th>native-country_Japan</th>\n",
              "      <th>native-country_Hong</th>\n",
              "      <th>native-country_Poland</th>\n",
              "      <th>native-country_Scotland</th>\n",
              "      <th>native-country_Columbia</th>\n",
              "      <th>native-country_Hungary</th>\n",
              "      <th>native-country_China</th>\n",
              "      <th>native-country_Portugal</th>\n",
              "      <th>native-country_Canada</th>\n",
              "      <th>native-country_Thailand</th>\n",
              "      <th>native-country_Laos</th>\n",
              "    </tr>\n",
              "  </thead>\n",
              "  <tbody>\n",
              "    <tr>\n",
              "      <th>0</th>\n",
              "      <td>67</td>\n",
              "      <td>366425</td>\n",
              "      <td>16</td>\n",
              "      <td>99999</td>\n",
              "      <td>0</td>\n",
              "      <td>60</td>\n",
              "      <td>1</td>\n",
              "      <td>0</td>\n",
              "      <td>0</td>\n",
              "      <td>0</td>\n",
              "      <td>0</td>\n",
              "      <td>0</td>\n",
              "      <td>0</td>\n",
              "      <td>0</td>\n",
              "      <td>0</td>\n",
              "      <td>0</td>\n",
              "      <td>0</td>\n",
              "      <td>0</td>\n",
              "      <td>0</td>\n",
              "      <td>0</td>\n",
              "      <td>0</td>\n",
              "      <td>0</td>\n",
              "      <td>0</td>\n",
              "      <td>0</td>\n",
              "      <td>0</td>\n",
              "      <td>0</td>\n",
              "      <td>0</td>\n",
              "      <td>0</td>\n",
              "      <td>0</td>\n",
              "      <td>0</td>\n",
              "      <td>0</td>\n",
              "      <td>0</td>\n",
              "      <td>0</td>\n",
              "      <td>0</td>\n",
              "      <td>0</td>\n",
              "      <td>0</td>\n",
              "      <td>0</td>\n",
              "      <td>0</td>\n",
              "      <td>0</td>\n",
              "      <td>0</td>\n",
              "      <td>...</td>\n",
              "      <td>0</td>\n",
              "      <td>0</td>\n",
              "      <td>0</td>\n",
              "      <td>0</td>\n",
              "      <td>0</td>\n",
              "      <td>0</td>\n",
              "      <td>0</td>\n",
              "      <td>0</td>\n",
              "      <td>0</td>\n",
              "      <td>0</td>\n",
              "      <td>0</td>\n",
              "      <td>0</td>\n",
              "      <td>0</td>\n",
              "      <td>0</td>\n",
              "      <td>0</td>\n",
              "      <td>0</td>\n",
              "      <td>0</td>\n",
              "      <td>0</td>\n",
              "      <td>0</td>\n",
              "      <td>0</td>\n",
              "      <td>0</td>\n",
              "      <td>0</td>\n",
              "      <td>0</td>\n",
              "      <td>0</td>\n",
              "      <td>0</td>\n",
              "      <td>0</td>\n",
              "      <td>0</td>\n",
              "      <td>0</td>\n",
              "      <td>0</td>\n",
              "      <td>0</td>\n",
              "      <td>0</td>\n",
              "      <td>0</td>\n",
              "      <td>0</td>\n",
              "      <td>0</td>\n",
              "      <td>0</td>\n",
              "      <td>0</td>\n",
              "      <td>0</td>\n",
              "      <td>0</td>\n",
              "      <td>0</td>\n",
              "      <td>0</td>\n",
              "    </tr>\n",
              "    <tr>\n",
              "      <th>1</th>\n",
              "      <td>17</td>\n",
              "      <td>244602</td>\n",
              "      <td>8</td>\n",
              "      <td>0</td>\n",
              "      <td>0</td>\n",
              "      <td>15</td>\n",
              "      <td>0</td>\n",
              "      <td>0</td>\n",
              "      <td>0</td>\n",
              "      <td>0</td>\n",
              "      <td>0</td>\n",
              "      <td>0</td>\n",
              "      <td>0</td>\n",
              "      <td>0</td>\n",
              "      <td>0</td>\n",
              "      <td>0</td>\n",
              "      <td>0</td>\n",
              "      <td>0</td>\n",
              "      <td>0</td>\n",
              "      <td>0</td>\n",
              "      <td>0</td>\n",
              "      <td>0</td>\n",
              "      <td>0</td>\n",
              "      <td>0</td>\n",
              "      <td>0</td>\n",
              "      <td>0</td>\n",
              "      <td>0</td>\n",
              "      <td>0</td>\n",
              "      <td>0</td>\n",
              "      <td>0</td>\n",
              "      <td>0</td>\n",
              "      <td>0</td>\n",
              "      <td>0</td>\n",
              "      <td>0</td>\n",
              "      <td>0</td>\n",
              "      <td>0</td>\n",
              "      <td>0</td>\n",
              "      <td>0</td>\n",
              "      <td>0</td>\n",
              "      <td>0</td>\n",
              "      <td>...</td>\n",
              "      <td>0</td>\n",
              "      <td>0</td>\n",
              "      <td>0</td>\n",
              "      <td>0</td>\n",
              "      <td>0</td>\n",
              "      <td>0</td>\n",
              "      <td>0</td>\n",
              "      <td>0</td>\n",
              "      <td>0</td>\n",
              "      <td>0</td>\n",
              "      <td>0</td>\n",
              "      <td>0</td>\n",
              "      <td>0</td>\n",
              "      <td>0</td>\n",
              "      <td>0</td>\n",
              "      <td>0</td>\n",
              "      <td>0</td>\n",
              "      <td>0</td>\n",
              "      <td>0</td>\n",
              "      <td>0</td>\n",
              "      <td>0</td>\n",
              "      <td>0</td>\n",
              "      <td>0</td>\n",
              "      <td>0</td>\n",
              "      <td>0</td>\n",
              "      <td>0</td>\n",
              "      <td>0</td>\n",
              "      <td>0</td>\n",
              "      <td>0</td>\n",
              "      <td>0</td>\n",
              "      <td>0</td>\n",
              "      <td>0</td>\n",
              "      <td>0</td>\n",
              "      <td>0</td>\n",
              "      <td>0</td>\n",
              "      <td>0</td>\n",
              "      <td>0</td>\n",
              "      <td>0</td>\n",
              "      <td>0</td>\n",
              "      <td>0</td>\n",
              "    </tr>\n",
              "    <tr>\n",
              "      <th>2</th>\n",
              "      <td>31</td>\n",
              "      <td>174201</td>\n",
              "      <td>13</td>\n",
              "      <td>0</td>\n",
              "      <td>0</td>\n",
              "      <td>40</td>\n",
              "      <td>1</td>\n",
              "      <td>0</td>\n",
              "      <td>0</td>\n",
              "      <td>0</td>\n",
              "      <td>0</td>\n",
              "      <td>0</td>\n",
              "      <td>0</td>\n",
              "      <td>0</td>\n",
              "      <td>0</td>\n",
              "      <td>0</td>\n",
              "      <td>0</td>\n",
              "      <td>0</td>\n",
              "      <td>0</td>\n",
              "      <td>0</td>\n",
              "      <td>0</td>\n",
              "      <td>0</td>\n",
              "      <td>0</td>\n",
              "      <td>0</td>\n",
              "      <td>0</td>\n",
              "      <td>0</td>\n",
              "      <td>0</td>\n",
              "      <td>0</td>\n",
              "      <td>0</td>\n",
              "      <td>0</td>\n",
              "      <td>0</td>\n",
              "      <td>0</td>\n",
              "      <td>0</td>\n",
              "      <td>0</td>\n",
              "      <td>0</td>\n",
              "      <td>0</td>\n",
              "      <td>0</td>\n",
              "      <td>0</td>\n",
              "      <td>0</td>\n",
              "      <td>0</td>\n",
              "      <td>...</td>\n",
              "      <td>0</td>\n",
              "      <td>0</td>\n",
              "      <td>0</td>\n",
              "      <td>0</td>\n",
              "      <td>0</td>\n",
              "      <td>0</td>\n",
              "      <td>0</td>\n",
              "      <td>0</td>\n",
              "      <td>0</td>\n",
              "      <td>0</td>\n",
              "      <td>0</td>\n",
              "      <td>0</td>\n",
              "      <td>0</td>\n",
              "      <td>0</td>\n",
              "      <td>0</td>\n",
              "      <td>0</td>\n",
              "      <td>0</td>\n",
              "      <td>0</td>\n",
              "      <td>0</td>\n",
              "      <td>0</td>\n",
              "      <td>0</td>\n",
              "      <td>0</td>\n",
              "      <td>0</td>\n",
              "      <td>0</td>\n",
              "      <td>0</td>\n",
              "      <td>0</td>\n",
              "      <td>0</td>\n",
              "      <td>0</td>\n",
              "      <td>0</td>\n",
              "      <td>0</td>\n",
              "      <td>0</td>\n",
              "      <td>0</td>\n",
              "      <td>0</td>\n",
              "      <td>0</td>\n",
              "      <td>0</td>\n",
              "      <td>0</td>\n",
              "      <td>0</td>\n",
              "      <td>0</td>\n",
              "      <td>0</td>\n",
              "      <td>0</td>\n",
              "    </tr>\n",
              "    <tr>\n",
              "      <th>3</th>\n",
              "      <td>58</td>\n",
              "      <td>110199</td>\n",
              "      <td>4</td>\n",
              "      <td>0</td>\n",
              "      <td>0</td>\n",
              "      <td>40</td>\n",
              "      <td>0</td>\n",
              "      <td>0</td>\n",
              "      <td>0</td>\n",
              "      <td>0</td>\n",
              "      <td>0</td>\n",
              "      <td>0</td>\n",
              "      <td>0</td>\n",
              "      <td>0</td>\n",
              "      <td>0</td>\n",
              "      <td>0</td>\n",
              "      <td>0</td>\n",
              "      <td>0</td>\n",
              "      <td>0</td>\n",
              "      <td>0</td>\n",
              "      <td>0</td>\n",
              "      <td>0</td>\n",
              "      <td>0</td>\n",
              "      <td>0</td>\n",
              "      <td>0</td>\n",
              "      <td>0</td>\n",
              "      <td>0</td>\n",
              "      <td>0</td>\n",
              "      <td>0</td>\n",
              "      <td>0</td>\n",
              "      <td>0</td>\n",
              "      <td>0</td>\n",
              "      <td>0</td>\n",
              "      <td>0</td>\n",
              "      <td>0</td>\n",
              "      <td>0</td>\n",
              "      <td>0</td>\n",
              "      <td>0</td>\n",
              "      <td>0</td>\n",
              "      <td>0</td>\n",
              "      <td>...</td>\n",
              "      <td>0</td>\n",
              "      <td>0</td>\n",
              "      <td>0</td>\n",
              "      <td>0</td>\n",
              "      <td>0</td>\n",
              "      <td>0</td>\n",
              "      <td>0</td>\n",
              "      <td>0</td>\n",
              "      <td>0</td>\n",
              "      <td>0</td>\n",
              "      <td>0</td>\n",
              "      <td>0</td>\n",
              "      <td>0</td>\n",
              "      <td>0</td>\n",
              "      <td>0</td>\n",
              "      <td>0</td>\n",
              "      <td>0</td>\n",
              "      <td>0</td>\n",
              "      <td>0</td>\n",
              "      <td>0</td>\n",
              "      <td>0</td>\n",
              "      <td>0</td>\n",
              "      <td>0</td>\n",
              "      <td>0</td>\n",
              "      <td>0</td>\n",
              "      <td>0</td>\n",
              "      <td>0</td>\n",
              "      <td>0</td>\n",
              "      <td>0</td>\n",
              "      <td>0</td>\n",
              "      <td>0</td>\n",
              "      <td>0</td>\n",
              "      <td>0</td>\n",
              "      <td>0</td>\n",
              "      <td>0</td>\n",
              "      <td>0</td>\n",
              "      <td>0</td>\n",
              "      <td>0</td>\n",
              "      <td>0</td>\n",
              "      <td>0</td>\n",
              "    </tr>\n",
              "    <tr>\n",
              "      <th>4</th>\n",
              "      <td>25</td>\n",
              "      <td>149248</td>\n",
              "      <td>10</td>\n",
              "      <td>0</td>\n",
              "      <td>0</td>\n",
              "      <td>40</td>\n",
              "      <td>0</td>\n",
              "      <td>0</td>\n",
              "      <td>0</td>\n",
              "      <td>0</td>\n",
              "      <td>0</td>\n",
              "      <td>0</td>\n",
              "      <td>0</td>\n",
              "      <td>0</td>\n",
              "      <td>0</td>\n",
              "      <td>0</td>\n",
              "      <td>0</td>\n",
              "      <td>0</td>\n",
              "      <td>0</td>\n",
              "      <td>0</td>\n",
              "      <td>0</td>\n",
              "      <td>0</td>\n",
              "      <td>0</td>\n",
              "      <td>0</td>\n",
              "      <td>0</td>\n",
              "      <td>0</td>\n",
              "      <td>0</td>\n",
              "      <td>0</td>\n",
              "      <td>0</td>\n",
              "      <td>0</td>\n",
              "      <td>0</td>\n",
              "      <td>0</td>\n",
              "      <td>0</td>\n",
              "      <td>0</td>\n",
              "      <td>0</td>\n",
              "      <td>0</td>\n",
              "      <td>0</td>\n",
              "      <td>0</td>\n",
              "      <td>0</td>\n",
              "      <td>0</td>\n",
              "      <td>...</td>\n",
              "      <td>0</td>\n",
              "      <td>0</td>\n",
              "      <td>0</td>\n",
              "      <td>0</td>\n",
              "      <td>0</td>\n",
              "      <td>0</td>\n",
              "      <td>0</td>\n",
              "      <td>0</td>\n",
              "      <td>0</td>\n",
              "      <td>0</td>\n",
              "      <td>0</td>\n",
              "      <td>0</td>\n",
              "      <td>0</td>\n",
              "      <td>0</td>\n",
              "      <td>0</td>\n",
              "      <td>0</td>\n",
              "      <td>0</td>\n",
              "      <td>0</td>\n",
              "      <td>0</td>\n",
              "      <td>0</td>\n",
              "      <td>0</td>\n",
              "      <td>0</td>\n",
              "      <td>0</td>\n",
              "      <td>0</td>\n",
              "      <td>0</td>\n",
              "      <td>0</td>\n",
              "      <td>0</td>\n",
              "      <td>0</td>\n",
              "      <td>0</td>\n",
              "      <td>0</td>\n",
              "      <td>0</td>\n",
              "      <td>0</td>\n",
              "      <td>0</td>\n",
              "      <td>0</td>\n",
              "      <td>0</td>\n",
              "      <td>0</td>\n",
              "      <td>0</td>\n",
              "      <td>0</td>\n",
              "      <td>0</td>\n",
              "      <td>0</td>\n",
              "    </tr>\n",
              "  </tbody>\n",
              "</table>\n",
              "<p>5 rows × 105 columns</p>\n",
              "</div>"
            ],
            "text/plain": [
              "   age  fnlwgt  ...  native-country_Thailand  native-country_Laos\n",
              "0   67  366425  ...                        0                    0\n",
              "1   17  244602  ...                        0                    0\n",
              "2   31  174201  ...                        0                    0\n",
              "3   58  110199  ...                        0                    0\n",
              "4   25  149248  ...                        0                    0\n",
              "\n",
              "[5 rows x 105 columns]"
            ]
          },
          "metadata": {},
          "execution_count": 21
        }
      ]
    },
    {
      "cell_type": "code",
      "metadata": {
        "colab": {
          "base_uri": "https://localhost:8080/",
          "height": 287
        },
        "id": "QoYcGabF5rXK",
        "outputId": "fd9160f6-e438-4e1f-d4f5-c5a420517ad5"
      },
      "source": [
        "df_test.head()"
      ],
      "execution_count": 22,
      "outputs": [
        {
          "output_type": "execute_result",
          "data": {
            "text/html": [
              "<div>\n",
              "<style scoped>\n",
              "    .dataframe tbody tr th:only-of-type {\n",
              "        vertical-align: middle;\n",
              "    }\n",
              "\n",
              "    .dataframe tbody tr th {\n",
              "        vertical-align: top;\n",
              "    }\n",
              "\n",
              "    .dataframe thead th {\n",
              "        text-align: right;\n",
              "    }\n",
              "</style>\n",
              "<table border=\"1\" class=\"dataframe\">\n",
              "  <thead>\n",
              "    <tr style=\"text-align: right;\">\n",
              "      <th></th>\n",
              "      <th>age</th>\n",
              "      <th>fnlwgt</th>\n",
              "      <th>educational-num</th>\n",
              "      <th>capital-gain</th>\n",
              "      <th>capital-loss</th>\n",
              "      <th>hours-per-week</th>\n",
              "      <th>workclass_Self-emp-inc</th>\n",
              "      <th>workclass_Private</th>\n",
              "      <th>workclass_Federal-gov</th>\n",
              "      <th>workclass_State-gov</th>\n",
              "      <th>workclass_Local-gov</th>\n",
              "      <th>workclass_Without-pay</th>\n",
              "      <th>workclass_Self-emp-not-inc</th>\n",
              "      <th>education_7th-8th</th>\n",
              "      <th>education_HS-grad</th>\n",
              "      <th>education_9th</th>\n",
              "      <th>education_Assoc-voc</th>\n",
              "      <th>education_Bachelors</th>\n",
              "      <th>education_Preschool</th>\n",
              "      <th>education_11th</th>\n",
              "      <th>education_5th-6th</th>\n",
              "      <th>education_10th</th>\n",
              "      <th>education_Masters</th>\n",
              "      <th>education_1st-4th</th>\n",
              "      <th>education_Prof-school</th>\n",
              "      <th>education_12th</th>\n",
              "      <th>education_Doctorate</th>\n",
              "      <th>education_Assoc-acdm</th>\n",
              "      <th>education_Some-college</th>\n",
              "      <th>marital-status_Married-AF-spouse</th>\n",
              "      <th>marital-status_Separated</th>\n",
              "      <th>marital-status_Married-civ-spouse</th>\n",
              "      <th>marital-status_Widowed</th>\n",
              "      <th>marital-status_Never-married</th>\n",
              "      <th>marital-status_Married-spouse-absent</th>\n",
              "      <th>marital-status_Divorced</th>\n",
              "      <th>occupation_Transport-moving</th>\n",
              "      <th>occupation_Machine-op-inspct</th>\n",
              "      <th>occupation_Exec-managerial</th>\n",
              "      <th>occupation_Craft-repair</th>\n",
              "      <th>...</th>\n",
              "      <th>native-country_Jamaica</th>\n",
              "      <th>native-country_Dominican-Republic</th>\n",
              "      <th>native-country_Vietnam</th>\n",
              "      <th>native-country_Nicaragua</th>\n",
              "      <th>native-country_Taiwan</th>\n",
              "      <th>native-country_England</th>\n",
              "      <th>native-country_El-Salvador</th>\n",
              "      <th>native-country_United-States</th>\n",
              "      <th>native-country_Trinadad&amp;Tobago</th>\n",
              "      <th>native-country_Ecuador</th>\n",
              "      <th>native-country_Honduras</th>\n",
              "      <th>native-country_Cambodia</th>\n",
              "      <th>native-country_Holand-Netherlands</th>\n",
              "      <th>native-country_Iran</th>\n",
              "      <th>native-country_Germany</th>\n",
              "      <th>native-country_Mexico</th>\n",
              "      <th>native-country_India</th>\n",
              "      <th>native-country_Guatemala</th>\n",
              "      <th>native-country_Puerto-Rico</th>\n",
              "      <th>native-country_Yugoslavia</th>\n",
              "      <th>native-country_South</th>\n",
              "      <th>native-country_Outlying-US(Guam-USVI-etc)</th>\n",
              "      <th>native-country_Ireland</th>\n",
              "      <th>native-country_Greece</th>\n",
              "      <th>native-country_Haiti</th>\n",
              "      <th>native-country_France</th>\n",
              "      <th>native-country_Cuba</th>\n",
              "      <th>native-country_Philippines</th>\n",
              "      <th>native-country_Peru</th>\n",
              "      <th>native-country_Japan</th>\n",
              "      <th>native-country_Hong</th>\n",
              "      <th>native-country_Poland</th>\n",
              "      <th>native-country_Scotland</th>\n",
              "      <th>native-country_Columbia</th>\n",
              "      <th>native-country_Hungary</th>\n",
              "      <th>native-country_China</th>\n",
              "      <th>native-country_Portugal</th>\n",
              "      <th>native-country_Canada</th>\n",
              "      <th>native-country_Thailand</th>\n",
              "      <th>native-country_Laos</th>\n",
              "    </tr>\n",
              "  </thead>\n",
              "  <tbody>\n",
              "    <tr>\n",
              "      <th>0</th>\n",
              "      <td>39</td>\n",
              "      <td>327120</td>\n",
              "      <td>9</td>\n",
              "      <td>0</td>\n",
              "      <td>0</td>\n",
              "      <td>40</td>\n",
              "      <td>0</td>\n",
              "      <td>0</td>\n",
              "      <td>0</td>\n",
              "      <td>0</td>\n",
              "      <td>0</td>\n",
              "      <td>0</td>\n",
              "      <td>0</td>\n",
              "      <td>0</td>\n",
              "      <td>0</td>\n",
              "      <td>0</td>\n",
              "      <td>0</td>\n",
              "      <td>0</td>\n",
              "      <td>0</td>\n",
              "      <td>0</td>\n",
              "      <td>0</td>\n",
              "      <td>0</td>\n",
              "      <td>0</td>\n",
              "      <td>0</td>\n",
              "      <td>0</td>\n",
              "      <td>0</td>\n",
              "      <td>0</td>\n",
              "      <td>0</td>\n",
              "      <td>0</td>\n",
              "      <td>0</td>\n",
              "      <td>0</td>\n",
              "      <td>0</td>\n",
              "      <td>0</td>\n",
              "      <td>0</td>\n",
              "      <td>0</td>\n",
              "      <td>0</td>\n",
              "      <td>0</td>\n",
              "      <td>0</td>\n",
              "      <td>0</td>\n",
              "      <td>0</td>\n",
              "      <td>...</td>\n",
              "      <td>0</td>\n",
              "      <td>0</td>\n",
              "      <td>0</td>\n",
              "      <td>0</td>\n",
              "      <td>0</td>\n",
              "      <td>0</td>\n",
              "      <td>0</td>\n",
              "      <td>0</td>\n",
              "      <td>0</td>\n",
              "      <td>0</td>\n",
              "      <td>0</td>\n",
              "      <td>0</td>\n",
              "      <td>0</td>\n",
              "      <td>0</td>\n",
              "      <td>0</td>\n",
              "      <td>0</td>\n",
              "      <td>0</td>\n",
              "      <td>0</td>\n",
              "      <td>0</td>\n",
              "      <td>0</td>\n",
              "      <td>0</td>\n",
              "      <td>0</td>\n",
              "      <td>0</td>\n",
              "      <td>0</td>\n",
              "      <td>0</td>\n",
              "      <td>0</td>\n",
              "      <td>0</td>\n",
              "      <td>0</td>\n",
              "      <td>0</td>\n",
              "      <td>0</td>\n",
              "      <td>0</td>\n",
              "      <td>0</td>\n",
              "      <td>0</td>\n",
              "      <td>0</td>\n",
              "      <td>0</td>\n",
              "      <td>0</td>\n",
              "      <td>0</td>\n",
              "      <td>0</td>\n",
              "      <td>0</td>\n",
              "      <td>0</td>\n",
              "    </tr>\n",
              "    <tr>\n",
              "      <th>1</th>\n",
              "      <td>32</td>\n",
              "      <td>123253</td>\n",
              "      <td>12</td>\n",
              "      <td>0</td>\n",
              "      <td>0</td>\n",
              "      <td>42</td>\n",
              "      <td>0</td>\n",
              "      <td>0</td>\n",
              "      <td>0</td>\n",
              "      <td>0</td>\n",
              "      <td>0</td>\n",
              "      <td>0</td>\n",
              "      <td>0</td>\n",
              "      <td>0</td>\n",
              "      <td>0</td>\n",
              "      <td>0</td>\n",
              "      <td>0</td>\n",
              "      <td>0</td>\n",
              "      <td>0</td>\n",
              "      <td>0</td>\n",
              "      <td>0</td>\n",
              "      <td>0</td>\n",
              "      <td>0</td>\n",
              "      <td>0</td>\n",
              "      <td>0</td>\n",
              "      <td>0</td>\n",
              "      <td>0</td>\n",
              "      <td>0</td>\n",
              "      <td>0</td>\n",
              "      <td>0</td>\n",
              "      <td>0</td>\n",
              "      <td>0</td>\n",
              "      <td>0</td>\n",
              "      <td>0</td>\n",
              "      <td>0</td>\n",
              "      <td>0</td>\n",
              "      <td>0</td>\n",
              "      <td>0</td>\n",
              "      <td>0</td>\n",
              "      <td>0</td>\n",
              "      <td>...</td>\n",
              "      <td>0</td>\n",
              "      <td>0</td>\n",
              "      <td>0</td>\n",
              "      <td>0</td>\n",
              "      <td>0</td>\n",
              "      <td>0</td>\n",
              "      <td>0</td>\n",
              "      <td>0</td>\n",
              "      <td>0</td>\n",
              "      <td>0</td>\n",
              "      <td>0</td>\n",
              "      <td>0</td>\n",
              "      <td>0</td>\n",
              "      <td>0</td>\n",
              "      <td>0</td>\n",
              "      <td>0</td>\n",
              "      <td>0</td>\n",
              "      <td>0</td>\n",
              "      <td>0</td>\n",
              "      <td>0</td>\n",
              "      <td>0</td>\n",
              "      <td>0</td>\n",
              "      <td>0</td>\n",
              "      <td>0</td>\n",
              "      <td>0</td>\n",
              "      <td>0</td>\n",
              "      <td>0</td>\n",
              "      <td>0</td>\n",
              "      <td>0</td>\n",
              "      <td>0</td>\n",
              "      <td>0</td>\n",
              "      <td>0</td>\n",
              "      <td>0</td>\n",
              "      <td>0</td>\n",
              "      <td>0</td>\n",
              "      <td>0</td>\n",
              "      <td>0</td>\n",
              "      <td>0</td>\n",
              "      <td>0</td>\n",
              "      <td>0</td>\n",
              "    </tr>\n",
              "    <tr>\n",
              "      <th>2</th>\n",
              "      <td>47</td>\n",
              "      <td>232628</td>\n",
              "      <td>9</td>\n",
              "      <td>0</td>\n",
              "      <td>0</td>\n",
              "      <td>40</td>\n",
              "      <td>0</td>\n",
              "      <td>0</td>\n",
              "      <td>0</td>\n",
              "      <td>0</td>\n",
              "      <td>0</td>\n",
              "      <td>0</td>\n",
              "      <td>0</td>\n",
              "      <td>0</td>\n",
              "      <td>0</td>\n",
              "      <td>0</td>\n",
              "      <td>0</td>\n",
              "      <td>0</td>\n",
              "      <td>0</td>\n",
              "      <td>0</td>\n",
              "      <td>0</td>\n",
              "      <td>0</td>\n",
              "      <td>0</td>\n",
              "      <td>0</td>\n",
              "      <td>0</td>\n",
              "      <td>0</td>\n",
              "      <td>0</td>\n",
              "      <td>0</td>\n",
              "      <td>0</td>\n",
              "      <td>0</td>\n",
              "      <td>0</td>\n",
              "      <td>0</td>\n",
              "      <td>0</td>\n",
              "      <td>0</td>\n",
              "      <td>0</td>\n",
              "      <td>0</td>\n",
              "      <td>0</td>\n",
              "      <td>0</td>\n",
              "      <td>0</td>\n",
              "      <td>0</td>\n",
              "      <td>...</td>\n",
              "      <td>0</td>\n",
              "      <td>0</td>\n",
              "      <td>0</td>\n",
              "      <td>0</td>\n",
              "      <td>0</td>\n",
              "      <td>0</td>\n",
              "      <td>0</td>\n",
              "      <td>0</td>\n",
              "      <td>0</td>\n",
              "      <td>0</td>\n",
              "      <td>0</td>\n",
              "      <td>0</td>\n",
              "      <td>0</td>\n",
              "      <td>0</td>\n",
              "      <td>0</td>\n",
              "      <td>0</td>\n",
              "      <td>0</td>\n",
              "      <td>0</td>\n",
              "      <td>0</td>\n",
              "      <td>0</td>\n",
              "      <td>0</td>\n",
              "      <td>0</td>\n",
              "      <td>0</td>\n",
              "      <td>0</td>\n",
              "      <td>0</td>\n",
              "      <td>0</td>\n",
              "      <td>0</td>\n",
              "      <td>0</td>\n",
              "      <td>0</td>\n",
              "      <td>0</td>\n",
              "      <td>0</td>\n",
              "      <td>0</td>\n",
              "      <td>0</td>\n",
              "      <td>0</td>\n",
              "      <td>0</td>\n",
              "      <td>0</td>\n",
              "      <td>0</td>\n",
              "      <td>0</td>\n",
              "      <td>0</td>\n",
              "      <td>0</td>\n",
              "    </tr>\n",
              "    <tr>\n",
              "      <th>3</th>\n",
              "      <td>19</td>\n",
              "      <td>374262</td>\n",
              "      <td>8</td>\n",
              "      <td>0</td>\n",
              "      <td>0</td>\n",
              "      <td>20</td>\n",
              "      <td>0</td>\n",
              "      <td>0</td>\n",
              "      <td>0</td>\n",
              "      <td>0</td>\n",
              "      <td>0</td>\n",
              "      <td>0</td>\n",
              "      <td>0</td>\n",
              "      <td>0</td>\n",
              "      <td>0</td>\n",
              "      <td>0</td>\n",
              "      <td>0</td>\n",
              "      <td>0</td>\n",
              "      <td>0</td>\n",
              "      <td>0</td>\n",
              "      <td>0</td>\n",
              "      <td>0</td>\n",
              "      <td>0</td>\n",
              "      <td>0</td>\n",
              "      <td>0</td>\n",
              "      <td>0</td>\n",
              "      <td>0</td>\n",
              "      <td>0</td>\n",
              "      <td>0</td>\n",
              "      <td>0</td>\n",
              "      <td>0</td>\n",
              "      <td>0</td>\n",
              "      <td>0</td>\n",
              "      <td>0</td>\n",
              "      <td>0</td>\n",
              "      <td>0</td>\n",
              "      <td>0</td>\n",
              "      <td>0</td>\n",
              "      <td>0</td>\n",
              "      <td>0</td>\n",
              "      <td>...</td>\n",
              "      <td>0</td>\n",
              "      <td>0</td>\n",
              "      <td>0</td>\n",
              "      <td>0</td>\n",
              "      <td>0</td>\n",
              "      <td>0</td>\n",
              "      <td>0</td>\n",
              "      <td>0</td>\n",
              "      <td>0</td>\n",
              "      <td>0</td>\n",
              "      <td>0</td>\n",
              "      <td>0</td>\n",
              "      <td>0</td>\n",
              "      <td>0</td>\n",
              "      <td>0</td>\n",
              "      <td>0</td>\n",
              "      <td>0</td>\n",
              "      <td>0</td>\n",
              "      <td>0</td>\n",
              "      <td>0</td>\n",
              "      <td>0</td>\n",
              "      <td>0</td>\n",
              "      <td>0</td>\n",
              "      <td>0</td>\n",
              "      <td>0</td>\n",
              "      <td>0</td>\n",
              "      <td>0</td>\n",
              "      <td>0</td>\n",
              "      <td>0</td>\n",
              "      <td>0</td>\n",
              "      <td>0</td>\n",
              "      <td>0</td>\n",
              "      <td>0</td>\n",
              "      <td>0</td>\n",
              "      <td>0</td>\n",
              "      <td>0</td>\n",
              "      <td>0</td>\n",
              "      <td>0</td>\n",
              "      <td>0</td>\n",
              "      <td>0</td>\n",
              "    </tr>\n",
              "    <tr>\n",
              "      <th>4</th>\n",
              "      <td>46</td>\n",
              "      <td>311231</td>\n",
              "      <td>9</td>\n",
              "      <td>0</td>\n",
              "      <td>0</td>\n",
              "      <td>40</td>\n",
              "      <td>0</td>\n",
              "      <td>0</td>\n",
              "      <td>0</td>\n",
              "      <td>0</td>\n",
              "      <td>0</td>\n",
              "      <td>0</td>\n",
              "      <td>0</td>\n",
              "      <td>0</td>\n",
              "      <td>0</td>\n",
              "      <td>0</td>\n",
              "      <td>0</td>\n",
              "      <td>0</td>\n",
              "      <td>0</td>\n",
              "      <td>0</td>\n",
              "      <td>0</td>\n",
              "      <td>0</td>\n",
              "      <td>0</td>\n",
              "      <td>0</td>\n",
              "      <td>0</td>\n",
              "      <td>0</td>\n",
              "      <td>0</td>\n",
              "      <td>0</td>\n",
              "      <td>0</td>\n",
              "      <td>0</td>\n",
              "      <td>0</td>\n",
              "      <td>0</td>\n",
              "      <td>0</td>\n",
              "      <td>0</td>\n",
              "      <td>0</td>\n",
              "      <td>0</td>\n",
              "      <td>0</td>\n",
              "      <td>0</td>\n",
              "      <td>0</td>\n",
              "      <td>0</td>\n",
              "      <td>...</td>\n",
              "      <td>0</td>\n",
              "      <td>0</td>\n",
              "      <td>0</td>\n",
              "      <td>0</td>\n",
              "      <td>0</td>\n",
              "      <td>0</td>\n",
              "      <td>0</td>\n",
              "      <td>0</td>\n",
              "      <td>0</td>\n",
              "      <td>0</td>\n",
              "      <td>0</td>\n",
              "      <td>0</td>\n",
              "      <td>0</td>\n",
              "      <td>0</td>\n",
              "      <td>0</td>\n",
              "      <td>0</td>\n",
              "      <td>0</td>\n",
              "      <td>0</td>\n",
              "      <td>0</td>\n",
              "      <td>0</td>\n",
              "      <td>0</td>\n",
              "      <td>0</td>\n",
              "      <td>0</td>\n",
              "      <td>0</td>\n",
              "      <td>0</td>\n",
              "      <td>0</td>\n",
              "      <td>0</td>\n",
              "      <td>0</td>\n",
              "      <td>0</td>\n",
              "      <td>0</td>\n",
              "      <td>0</td>\n",
              "      <td>0</td>\n",
              "      <td>0</td>\n",
              "      <td>0</td>\n",
              "      <td>0</td>\n",
              "      <td>0</td>\n",
              "      <td>0</td>\n",
              "      <td>0</td>\n",
              "      <td>0</td>\n",
              "      <td>0</td>\n",
              "    </tr>\n",
              "  </tbody>\n",
              "</table>\n",
              "<p>5 rows × 104 columns</p>\n",
              "</div>"
            ],
            "text/plain": [
              "   age  fnlwgt  ...  native-country_Thailand  native-country_Laos\n",
              "0   39  327120  ...                        0                    0\n",
              "1   32  123253  ...                        0                    0\n",
              "2   47  232628  ...                        0                    0\n",
              "3   19  374262  ...                        0                    0\n",
              "4   46  311231  ...                        0                    0\n",
              "\n",
              "[5 rows x 104 columns]"
            ]
          },
          "metadata": {},
          "execution_count": 22
        }
      ]
    },
    {
      "cell_type": "markdown",
      "metadata": {
        "id": "Wm8GR1f7E9mE"
      },
      "source": [
        "#ขั้นตอนการเตรียมข้อมูลสอน ข้อมูลทวนสอบ และ ข้อมูลทดสอบ"
      ]
    },
    {
      "cell_type": "code",
      "metadata": {
        "id": "pneIBq1pFKsB"
      },
      "source": [
        "from sklearn.model_selection import train_test_split\n",
        "from sklearn.preprocessing import MinMaxScaler"
      ],
      "execution_count": null,
      "outputs": []
    },
    {
      "cell_type": "code",
      "metadata": {
        "id": "wMlbCj6Y57e7"
      },
      "source": [
        "X = df_train2.drop(columns='income_>50K').values\n",
        "y = df_train2.loc[:,['income_>50K']].values"
      ],
      "execution_count": null,
      "outputs": []
    },
    {
      "cell_type": "code",
      "metadata": {
        "id": "lswzZ2jbokzM"
      },
      "source": [
        "X_train, X_test, y_train, y_test = train_test_split(X, y, test_size=0.10)"
      ],
      "execution_count": null,
      "outputs": []
    },
    {
      "cell_type": "code",
      "metadata": {
        "id": "94L69tle-7t3"
      },
      "source": [
        "scaler = MinMaxScaler()\n",
        "scaler.fit(X_train)\n",
        "X_train = scaler.transform(X_train)\n",
        "X_test = scaler.transform(X_test)"
      ],
      "execution_count": null,
      "outputs": []
    },
    {
      "cell_type": "markdown",
      "metadata": {
        "id": "4POYalcXgCZB"
      },
      "source": [
        "# ขั้นตอนการสร้างและเปรียบเทียบโมเดล"
      ]
    },
    {
      "cell_type": "code",
      "metadata": {
        "id": "3l7Dv-sV53_T"
      },
      "source": [
        "from sklearn import metrics\n",
        "from sklearn.metrics import classification_report\n",
        "from sklearn.metrics import confusion_matrix\n",
        "from sklearn.metrics import accuracy_score\n",
        "from sklearn.model_selection import cross_val_score\n",
        "from sklearn.neighbors import KNeighborsClassifier\n",
        "from sklearn.svm import SVC\n",
        "from sklearn.neural_network import MLPClassifier"
      ],
      "execution_count": null,
      "outputs": []
    },
    {
      "cell_type": "code",
      "metadata": {
        "colab": {
          "base_uri": "https://localhost:8080/",
          "height": 421
        },
        "id": "F6NJWJwQ321Y",
        "outputId": "05adf9d7-92b1-4469-8dbb-8821ad3f4843"
      },
      "source": [
        "error=[]\n",
        "for i in range(1, 20):\n",
        "    knn = KNeighborsClassifier(n_neighbors=i)\n",
        "    knn.fit(X_train, y_train)\n",
        "    pred_i = knn.predict(X_test)\n",
        "    error.append(np.mean(pred_i != y_test))\n",
        "\n",
        "plt.figure(figsize=(12, 6))\n",
        "plt.plot(range(1, 20), error, color='red', linestyle='dashed', marker='o',\n",
        "         markerfacecolor='blue', markersize=10)\n",
        "plt.title('Error Rate K Value')\n",
        "plt.xlabel('K Value')\n",
        "plt.ylabel('Mean Error')"
      ],
      "execution_count": null,
      "outputs": [
        {
          "output_type": "execute_result",
          "data": {
            "text/plain": [
              "Text(0, 0.5, 'Mean Error')"
            ]
          },
          "metadata": {},
          "execution_count": 85
        },
        {
          "output_type": "display_data",
          "data": {
            "image/png": "[encoded data removed]",
            "text/plain": [
              "<Figure size 864x432 with 1 Axes>"
            ]
          },
          "metadata": {
            "needs_background": "light"
          }
        }
      ]
    },
    {
      "cell_type": "code",
      "metadata": {
        "id": "qOMKKUIU_3fy"
      },
      "source": [
        "models = []\n",
        "models.append(('KNN', KNeighborsClassifier(n_neighbors=2)))\n",
        "models.append(('SVM', SVC(kernel='linear')))\n",
        "models.append(('Neural Network', MLPClassifier(solver='lbfgs', hidden_layer_sizes=53)))"
      ],
      "execution_count": null,
      "outputs": []
    },
    {
      "cell_type": "code",
      "metadata": {
        "id": "GtKU71l2ozkK",
        "colab": {
          "base_uri": "https://localhost:8080/",
          "height": 362
        },
        "outputId": "a4785245-0136-4d0b-c5f1-d6925272dcdc"
      },
      "source": [
        "results = []\n",
        "names = []\n",
        "for name, model in models:\n",
        "\tcv_results = cross_val_score(model, X_train, y_train, cv=10, scoring='accuracy')\n",
        "\tresults.append(cv_results)\n",
        "\tnames.append(name)\n",
        "\tprint('%s: %f' % (name, cv_results.mean()))\n",
        "\n",
        "print()\n",
        "fig = plt.figure()\n",
        "fig.suptitle('Algorithm Comparison')\n",
        "ax = fig.add_subplot(111)\n",
        "plt.boxplot(results)\n",
        "ax.set_xticklabels(names)\n",
        "plt.show()"
      ],
      "execution_count": null,
      "outputs": [
        {
          "output_type": "stream",
          "name": "stdout",
          "text": [
            "KNN: 0.795875\n",
            "SVM: 0.797320\n",
            "Neural Network: 0.817564\n",
            "\n"
          ]
        },
        {
          "output_type": "display_data",
          "data": {
            "image/png": "[encoded data removed]",
            "text/plain": [
              "<Figure size 432x288 with 1 Axes>"
            ]
          },
          "metadata": {
            "needs_background": "light"
          }
        }
      ]
    },
    {
      "cell_type": "code",
      "metadata": {
        "colab": {
          "base_uri": "https://localhost:8080/"
        },
        "id": "BTpXY1Vps5Ot",
        "outputId": "0655f39a-5de5-4a80-99b3-16b9edc8918f"
      },
      "source": [
        "print(\"Accuracy after prediction\")\n",
        "for name, model in models:\n",
        "  model.fit(X_train, y_train)\n",
        "  y_pred = model.predict(X_test)\n",
        "  result = metrics.accuracy_score(y_test, y_pred)\n",
        "  print('%s: %f' % (name, result))"
      ],
      "execution_count": null,
      "outputs": [
        {
          "output_type": "stream",
          "name": "stdout",
          "text": [
            "Accuracy after prediction\n",
            "KNN: 0.789590\n",
            "SVM: 0.802357\n",
            "Neural Network: 0.813651\n"
          ]
        }
      ]
    },
    {
      "cell_type": "markdown",
      "metadata": {
        "id": "vxOQmvEdAOIB"
      },
      "source": [
        "# ขั้นตอนการเลือกโมเดลในการจำแนกข้อมูล"
      ]
    },
    {
      "cell_type": "code",
      "metadata": {
        "id": "1ks8lnEslREU"
      },
      "source": [
        "target_names = ['class 0', 'class 1']"
      ],
      "execution_count": null,
      "outputs": []
    },
    {
      "cell_type": "code",
      "metadata": {
        "colab": {
          "base_uri": "https://localhost:8080/"
        },
        "id": "JVvpQXiIAi74",
        "outputId": "26568d8c-cb2a-4ac2-ef49-28b1dc0961c3"
      },
      "source": [
        "NeuralNet = MLPClassifier(solver='lbfgs', hidden_layer_sizes=(53,28), max_iter=100)\n",
        "NeuralNet.fit(X_train, y_train)\n",
        "y_pred_NeuralNet = NeuralNet.predict(X_test)\n",
        "print(\"Confustion Matrix: \\n\",confusion_matrix(y_test, y_pred_NeuralNet))\n",
        "print()\n",
        "print(classification_report(y_test, y_pred_NeuralNet, target_names=target_names))\n",
        "print()\n",
        "print(\"Accuracy: \", metrics.accuracy_score(y_test, y_pred))"
      ],
      "execution_count": null,
      "outputs": [
        {
          "output_type": "stream",
          "name": "stdout",
          "text": [
            "Confustion Matrix: \n",
            " [[2884  170]\n",
            " [ 584  435]]\n",
            "\n",
            "              precision    recall  f1-score   support\n",
            "\n",
            "     class 0       0.83      0.94      0.88      3054\n",
            "     class 1       0.72      0.43      0.54      1019\n",
            "\n",
            "    accuracy                           0.81      4073\n",
            "   macro avg       0.78      0.69      0.71      4073\n",
            "weighted avg       0.80      0.81      0.80      4073\n",
            "\n",
            "\n",
            "Accuracy:  0.8185612570586791\n"
          ]
        }
      ]
    },
    {
      "cell_type": "code",
      "metadata": {
        "colab": {
          "base_uri": "https://localhost:8080/",
          "height": 421
        },
        "id": "5SFIldVrJDib",
        "outputId": "aafc3828-3526-4d59-976d-72254ace796a"
      },
      "source": [
        "accuracy = []\n",
        "for i in range(100, 1100, 100):\n",
        "  model = MLPClassifier(solver='lbfgs', hidden_layer_sizes=53, max_iter=i)\n",
        "  model.fit(X_train, y_train)\n",
        "  y_pred = model.predict(X_test)\n",
        "  accuracy.append(metrics.accuracy_score(y_test, y_pred))\n",
        "  #print('iter %d: %f' % (i, metrics.accuracy_score(y_test, y_pred)))\n",
        "\n",
        "plt.figure(figsize=(12, 6))\n",
        "plt.plot(range(100, 1100, 100), accuracy, color='red', linestyle='dashed', marker='o',\n",
        "         markerfacecolor='blue', markersize=10)\n",
        "plt.title('Neural Network Iteration')\n",
        "plt.xlabel('Iteration')\n",
        "plt.ylabel('Accuracy')"
      ],
      "execution_count": null,
      "outputs": [
        {
          "output_type": "execute_result",
          "data": {
            "text/plain": [
              "Text(0, 0.5, 'Accuracy')"
            ]
          },
          "metadata": {},
          "execution_count": 93
        },
        {
          "output_type": "display_data",
          "data": {
            "image/png": "[encoded data removed]",
            "text/plain": [
              "<Figure size 864x432 with 1 Axes>"
            ]
          },
          "metadata": {
            "needs_background": "light"
          }
        }
      ]
    },
    {
      "cell_type": "markdown",
      "metadata": {
        "id": "4zyi2Iu9C7oR"
      },
      "source": [
        "#ขั้นตอนการทดสอบกับชุดข้อมูลทดสอบ"
      ]
    },
    {
      "cell_type": "code",
      "metadata": {
        "id": "wgZrNCoR_X5m"
      },
      "source": [
        "new_testset = df_test2.values\n",
        "new_testset = scaler.transform(new_testset)\n",
        "y_pred_testset = NeuralNet.predict(new_testset)\n",
        "new_testset = df_test2.copy()\n",
        "new_testset['income_>50K'] = y_pred_testset"
      ],
      "execution_count": null,
      "outputs": []
    },
    {
      "cell_type": "code",
      "metadata": {
        "colab": {
          "base_uri": "https://localhost:8080/"
        },
        "id": "LEI73x4FLsvo",
        "outputId": "0a6c582d-3d92-43c5-c0ca-db9a7587aa16"
      },
      "source": [
        "new_testset['income_>50K'].value_counts()"
      ],
      "execution_count": null,
      "outputs": [
        {
          "output_type": "execute_result",
          "data": {
            "text/plain": [
              "0    757\n",
              "1    142\n",
              "Name: income_>50K, dtype: int64"
            ]
          },
          "metadata": {},
          "execution_count": 104
        }
      ]
    },
    {
      "cell_type": "markdown",
      "metadata": {
        "id": "cpXKpDaTVOUB"
      },
      "source": [
        "# ดาวน์โหลด Data set หลังการทำ Pre-process "
      ]
    },
    {
      "cell_type": "code",
      "metadata": {
        "id": "o9hlDiHGVb6s"
      },
      "source": [
        "df_train2.to_csv('df_train2.csv')\n",
        "df_test2.to_csv('df_test2.csv')\n",
        "testset_with_class.to_csv('testset_with_class.csv')"
      ],
      "execution_count": null,
      "outputs": []
    },
    {
      "cell_type": "markdown",
      "metadata": {
        "id": "YNS6yMSiGdJT"
      },
      "source": [
        "# รายชื่อผู้จัดทำ"
      ]
    },
    {
      "cell_type": "markdown",
      "metadata": {
        "id": "LEtIyLMlGqng"
      },
      "source": [
        "นายอาดีนัน อับดุลลี 6209650719"
      ]
    }
  ]
}